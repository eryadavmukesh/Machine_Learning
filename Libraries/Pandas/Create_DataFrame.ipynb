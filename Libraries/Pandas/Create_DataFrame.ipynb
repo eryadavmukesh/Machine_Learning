{
 "cells": [
  {
   "cell_type": "markdown",
   "metadata": {},
   "source": [
    "# Creating a DataFrame\n",
    "   - pd.DataFrame() is a combination of rows & columns"
   ]
  },
  {
   "cell_type": "markdown",
   "metadata": {},
   "source": [
    "### Python Dictionary"
   ]
  },
  {
   "cell_type": "code",
   "execution_count": 1,
   "metadata": {},
   "outputs": [],
   "source": [
    "# Create a dictionary in python only single entity\n",
    "\n",
    "# keys ---> columns\n",
    "# values---> rows\n",
    "\n",
    "persons = {\n",
    "    'FName':'Mukesh',\n",
    "    'LName':'Yadav',\n",
    "    'Occupation':'Engineer',\n",
    "    'Location':'Jaipur',\n",
    "    'PinCode':303106,\n",
    "    'Hobby':'Reading'\n",
    "}"
   ]
  },
  {
   "cell_type": "code",
   "execution_count": 2,
   "metadata": {},
   "outputs": [
    {
     "data": {
      "text/plain": [
       "{'FName': 'Mukesh',\n",
       " 'LName': 'Yadav',\n",
       " 'Occupation': 'Engineer',\n",
       " 'Location': 'Jaipur',\n",
       " 'PinCode': 303106,\n",
       " 'Hobby': 'Reading'}"
      ]
     },
     "execution_count": 2,
     "metadata": {},
     "output_type": "execute_result"
    }
   ],
   "source": [
    "persons"
   ]
  },
  {
   "cell_type": "code",
   "execution_count": 3,
   "metadata": {},
   "outputs": [],
   "source": [
    "# Create a dictionary in python using multile entity using pythin lists\n",
    "\n",
    "persons1 = {\n",
    "    'FName':['Mukesh','Admin','Raja'],\n",
    "    'LName':['Yadav', 'admin','Sastri'],\n",
    "    'Occupation':['Engineer','Product Ownor','Architect'],\n",
    "    'Location':['Jaipur', 'Delhi', 'Pink city'],\n",
    "    'PinCode':['303106', '302020', '302016'],\n",
    "    'Hobby':['Reading', 'Study','playing']\n",
    "             }"
   ]
  },
  {
   "cell_type": "code",
   "execution_count": 4,
   "metadata": {},
   "outputs": [
    {
     "data": {
      "text/plain": [
       "{'FName': ['Mukesh', 'Admin', 'Raja'],\n",
       " 'LName': ['Yadav', 'admin', 'Sastri'],\n",
       " 'Occupation': ['Engineer', 'Product Ownor', 'Architect'],\n",
       " 'Location': ['Jaipur', 'Delhi', 'Pink city'],\n",
       " 'PinCode': ['303106', '302020', '302016'],\n",
       " 'Hobby': ['Reading', 'Study', 'playing']}"
      ]
     },
     "execution_count": 4,
     "metadata": {},
     "output_type": "execute_result"
    }
   ],
   "source": [
    "persons1"
   ]
  },
  {
   "cell_type": "code",
   "execution_count": 5,
   "metadata": {},
   "outputs": [
    {
     "data": {
      "text/plain": [
       "'Raja'"
      ]
     },
     "execution_count": 5,
     "metadata": {},
     "output_type": "execute_result"
    }
   ],
   "source": [
    "persons1['FName'][2]"
   ]
  },
  {
   "cell_type": "markdown",
   "metadata": {},
   "source": [
    "### Create a DataFrame"
   ]
  },
  {
   "cell_type": "code",
   "execution_count": 6,
   "metadata": {},
   "outputs": [],
   "source": [
    "# Create a DataFrame\n",
    "import pandas as pd\n"
   ]
  },
  {
   "cell_type": "code",
   "execution_count": 7,
   "metadata": {},
   "outputs": [
    {
     "data": {
      "text/html": [
       "<div>\n",
       "<style scoped>\n",
       "    .dataframe tbody tr th:only-of-type {\n",
       "        vertical-align: middle;\n",
       "    }\n",
       "\n",
       "    .dataframe tbody tr th {\n",
       "        vertical-align: top;\n",
       "    }\n",
       "\n",
       "    .dataframe thead th {\n",
       "        text-align: right;\n",
       "    }\n",
       "</style>\n",
       "<table border=\"1\" class=\"dataframe\">\n",
       "  <thead>\n",
       "    <tr style=\"text-align: right;\">\n",
       "      <th></th>\n",
       "      <th>FName</th>\n",
       "      <th>LName</th>\n",
       "      <th>Occupation</th>\n",
       "      <th>Location</th>\n",
       "      <th>PinCode</th>\n",
       "      <th>Hobby</th>\n",
       "    </tr>\n",
       "  </thead>\n",
       "  <tbody>\n",
       "    <tr>\n",
       "      <th>0</th>\n",
       "      <td>Mukesh</td>\n",
       "      <td>Yadav</td>\n",
       "      <td>Engineer</td>\n",
       "      <td>Jaipur</td>\n",
       "      <td>303106</td>\n",
       "      <td>Reading</td>\n",
       "    </tr>\n",
       "    <tr>\n",
       "      <th>1</th>\n",
       "      <td>Admin</td>\n",
       "      <td>admin</td>\n",
       "      <td>Product Ownor</td>\n",
       "      <td>Delhi</td>\n",
       "      <td>302020</td>\n",
       "      <td>Study</td>\n",
       "    </tr>\n",
       "    <tr>\n",
       "      <th>2</th>\n",
       "      <td>Raja</td>\n",
       "      <td>Sastri</td>\n",
       "      <td>Architect</td>\n",
       "      <td>Pink city</td>\n",
       "      <td>302016</td>\n",
       "      <td>playing</td>\n",
       "    </tr>\n",
       "  </tbody>\n",
       "</table>\n",
       "</div>"
      ],
      "text/plain": [
       "    FName   LName     Occupation   Location PinCode    Hobby\n",
       "0  Mukesh   Yadav       Engineer     Jaipur  303106  Reading\n",
       "1   Admin   admin  Product Ownor      Delhi  302020    Study\n",
       "2    Raja  Sastri      Architect  Pink city  302016  playing"
      ]
     },
     "execution_count": 7,
     "metadata": {},
     "output_type": "execute_result"
    }
   ],
   "source": [
    "\n",
    "df = pd.DataFrame(persons1)\n",
    "df"
   ]
  },
  {
   "cell_type": "code",
   "execution_count": 8,
   "metadata": {},
   "outputs": [
    {
     "data": {
      "text/plain": [
       "0    Reading\n",
       "1      Study\n",
       "2    playing\n",
       "Name: Hobby, dtype: object"
      ]
     },
     "execution_count": 8,
     "metadata": {},
     "output_type": "execute_result"
    }
   ],
   "source": [
    "# Accessing a column is same as accessing a value from a dictionary\n",
    "df['Hobby']"
   ]
  },
  {
   "cell_type": "code",
   "execution_count": 9,
   "metadata": {},
   "outputs": [
    {
     "data": {
      "text/plain": [
       "0    Reading\n",
       "1      Study\n",
       "2    playing\n",
       "Name: Hobby, dtype: object"
      ]
     },
     "execution_count": 9,
     "metadata": {},
     "output_type": "execute_result"
    }
   ],
   "source": [
    "#Even we can access using (. dot) notation like this-\n",
    "df.Hobby"
   ]
  },
  {
   "cell_type": "code",
   "execution_count": 10,
   "metadata": {},
   "outputs": [],
   "source": [
    "# Here I will recommend to use 1st approach using [] because sometime columns name might be same as attributes name in that case dot natation will give error.\n",
    "# eg. if data frame has a column name as count and accessing that using . notation will give error"
   ]
  },
  {
   "cell_type": "code",
   "execution_count": 11,
   "metadata": {},
   "outputs": [
    {
     "data": {
      "text/plain": [
       "pandas.core.series.Series"
      ]
     },
     "execution_count": 11,
     "metadata": {},
     "output_type": "execute_result"
    }
   ],
   "source": [
    "# Check the type of the column-\n",
    "type(df['Hobby'])"
   ]
  },
  {
   "cell_type": "code",
   "execution_count": 12,
   "metadata": {},
   "outputs": [],
   "source": [
    "#Series basically a list of data but like a data frame it has more functionality"
   ]
  },
  {
   "cell_type": "markdown",
   "metadata": {},
   "source": [
    "### Access multiple columns from data frame-"
   ]
  },
  {
   "cell_type": "code",
   "execution_count": 13,
   "metadata": {},
   "outputs": [
    {
     "data": {
      "text/html": [
       "<div>\n",
       "<style scoped>\n",
       "    .dataframe tbody tr th:only-of-type {\n",
       "        vertical-align: middle;\n",
       "    }\n",
       "\n",
       "    .dataframe tbody tr th {\n",
       "        vertical-align: top;\n",
       "    }\n",
       "\n",
       "    .dataframe thead th {\n",
       "        text-align: right;\n",
       "    }\n",
       "</style>\n",
       "<table border=\"1\" class=\"dataframe\">\n",
       "  <thead>\n",
       "    <tr style=\"text-align: right;\">\n",
       "      <th></th>\n",
       "      <th>FName</th>\n",
       "      <th>Location</th>\n",
       "      <th>Hobby</th>\n",
       "    </tr>\n",
       "  </thead>\n",
       "  <tbody>\n",
       "    <tr>\n",
       "      <th>0</th>\n",
       "      <td>Mukesh</td>\n",
       "      <td>Jaipur</td>\n",
       "      <td>Reading</td>\n",
       "    </tr>\n",
       "    <tr>\n",
       "      <th>1</th>\n",
       "      <td>Admin</td>\n",
       "      <td>Delhi</td>\n",
       "      <td>Study</td>\n",
       "    </tr>\n",
       "    <tr>\n",
       "      <th>2</th>\n",
       "      <td>Raja</td>\n",
       "      <td>Pink city</td>\n",
       "      <td>playing</td>\n",
       "    </tr>\n",
       "  </tbody>\n",
       "</table>\n",
       "</div>"
      ],
      "text/plain": [
       "    FName   Location    Hobby\n",
       "0  Mukesh     Jaipur  Reading\n",
       "1   Admin      Delhi    Study\n",
       "2    Raja  Pink city  playing"
      ]
     },
     "execution_count": 13,
     "metadata": {},
     "output_type": "execute_result"
    }
   ],
   "source": [
    "df[['FName','Location','Hobby']]"
   ]
  },
  {
   "cell_type": "code",
   "execution_count": 14,
   "metadata": {},
   "outputs": [
    {
     "data": {
      "text/plain": [
       "Index(['FName', 'LName', 'Occupation', 'Location', 'PinCode', 'Hobby'], dtype='object')"
      ]
     },
     "execution_count": 14,
     "metadata": {},
     "output_type": "execute_result"
    }
   ],
   "source": [
    "#To check list of columns\n",
    "df.columns"
   ]
  },
  {
   "cell_type": "markdown",
   "metadata": {},
   "source": [
    "###  Access rows \n",
    "   - loc - searching by label\n",
    "   - iloc - Allows us to access rows by using integer location"
   ]
  },
  {
   "cell_type": "code",
   "execution_count": 15,
   "metadata": {},
   "outputs": [
    {
     "data": {
      "text/plain": [
       "FName                 Admin\n",
       "LName                 admin\n",
       "Occupation    Product Ownor\n",
       "Location              Delhi\n",
       "PinCode              302020\n",
       "Hobby                 Study\n",
       "Name: 1, dtype: object"
      ]
     },
     "execution_count": 15,
     "metadata": {},
     "output_type": "execute_result"
    }
   ],
   "source": [
    "df.iloc[1]\n"
   ]
  },
  {
   "cell_type": "code",
   "execution_count": 16,
   "metadata": {},
   "outputs": [
    {
     "data": {
      "text/html": [
       "<div>\n",
       "<style scoped>\n",
       "    .dataframe tbody tr th:only-of-type {\n",
       "        vertical-align: middle;\n",
       "    }\n",
       "\n",
       "    .dataframe tbody tr th {\n",
       "        vertical-align: top;\n",
       "    }\n",
       "\n",
       "    .dataframe thead th {\n",
       "        text-align: right;\n",
       "    }\n",
       "</style>\n",
       "<table border=\"1\" class=\"dataframe\">\n",
       "  <thead>\n",
       "    <tr style=\"text-align: right;\">\n",
       "      <th></th>\n",
       "      <th>FName</th>\n",
       "      <th>LName</th>\n",
       "      <th>Occupation</th>\n",
       "      <th>Location</th>\n",
       "      <th>PinCode</th>\n",
       "      <th>Hobby</th>\n",
       "    </tr>\n",
       "  </thead>\n",
       "  <tbody>\n",
       "    <tr>\n",
       "      <th>0</th>\n",
       "      <td>Mukesh</td>\n",
       "      <td>Yadav</td>\n",
       "      <td>Engineer</td>\n",
       "      <td>Jaipur</td>\n",
       "      <td>303106</td>\n",
       "      <td>Reading</td>\n",
       "    </tr>\n",
       "    <tr>\n",
       "      <th>1</th>\n",
       "      <td>Admin</td>\n",
       "      <td>admin</td>\n",
       "      <td>Product Ownor</td>\n",
       "      <td>Delhi</td>\n",
       "      <td>302020</td>\n",
       "      <td>Study</td>\n",
       "    </tr>\n",
       "  </tbody>\n",
       "</table>\n",
       "</div>"
      ],
      "text/plain": [
       "    FName  LName     Occupation Location PinCode    Hobby\n",
       "0  Mukesh  Yadav       Engineer   Jaipur  303106  Reading\n",
       "1   Admin  admin  Product Ownor    Delhi  302020    Study"
      ]
     },
     "execution_count": 16,
     "metadata": {},
     "output_type": "execute_result"
    }
   ],
   "source": [
    "# Access multiple rows\n",
    "df.iloc[[0,1]]"
   ]
  },
  {
   "cell_type": "code",
   "execution_count": 17,
   "metadata": {},
   "outputs": [
    {
     "data": {
      "text/plain": [
       "0    Jaipur\n",
       "1     Delhi\n",
       "Name: Location, dtype: object"
      ]
     },
     "execution_count": 17,
     "metadata": {},
     "output_type": "execute_result"
    }
   ],
   "source": [
    "# we can also specify the column index for which we need data, 1st [] are for rows and 2nd [] for column index \n",
    "df.iloc[[0,1], 3]"
   ]
  },
  {
   "cell_type": "code",
   "execution_count": 18,
   "metadata": {},
   "outputs": [
    {
     "data": {
      "text/html": [
       "<div>\n",
       "<style scoped>\n",
       "    .dataframe tbody tr th:only-of-type {\n",
       "        vertical-align: middle;\n",
       "    }\n",
       "\n",
       "    .dataframe tbody tr th {\n",
       "        vertical-align: top;\n",
       "    }\n",
       "\n",
       "    .dataframe thead th {\n",
       "        text-align: right;\n",
       "    }\n",
       "</style>\n",
       "<table border=\"1\" class=\"dataframe\">\n",
       "  <thead>\n",
       "    <tr style=\"text-align: right;\">\n",
       "      <th></th>\n",
       "      <th>FName</th>\n",
       "      <th>LName</th>\n",
       "      <th>Occupation</th>\n",
       "      <th>Location</th>\n",
       "      <th>PinCode</th>\n",
       "      <th>Hobby</th>\n",
       "    </tr>\n",
       "  </thead>\n",
       "  <tbody>\n",
       "    <tr>\n",
       "      <th>0</th>\n",
       "      <td>Mukesh</td>\n",
       "      <td>Yadav</td>\n",
       "      <td>Engineer</td>\n",
       "      <td>Jaipur</td>\n",
       "      <td>303106</td>\n",
       "      <td>Reading</td>\n",
       "    </tr>\n",
       "    <tr>\n",
       "      <th>1</th>\n",
       "      <td>Admin</td>\n",
       "      <td>admin</td>\n",
       "      <td>Product Ownor</td>\n",
       "      <td>Delhi</td>\n",
       "      <td>302020</td>\n",
       "      <td>Study</td>\n",
       "    </tr>\n",
       "    <tr>\n",
       "      <th>2</th>\n",
       "      <td>Raja</td>\n",
       "      <td>Sastri</td>\n",
       "      <td>Architect</td>\n",
       "      <td>Pink city</td>\n",
       "      <td>302016</td>\n",
       "      <td>playing</td>\n",
       "    </tr>\n",
       "  </tbody>\n",
       "</table>\n",
       "</div>"
      ],
      "text/plain": [
       "    FName   LName     Occupation   Location PinCode    Hobby\n",
       "0  Mukesh   Yadav       Engineer     Jaipur  303106  Reading\n",
       "1   Admin   admin  Product Ownor      Delhi  302020    Study\n",
       "2    Raja  Sastri      Architect  Pink city  302016  playing"
      ]
     },
     "execution_count": 18,
     "metadata": {},
     "output_type": "execute_result"
    }
   ],
   "source": [
    "df"
   ]
  },
  {
   "cell_type": "code",
   "execution_count": 19,
   "metadata": {},
   "outputs": [
    {
     "data": {
      "text/plain": [
       "0    303106\n",
       "1    302020\n",
       "Name: PinCode, dtype: object"
      ]
     },
     "execution_count": 19,
     "metadata": {},
     "output_type": "execute_result"
    }
   ],
   "source": [
    "#Similarly we can use loc- we can mention the column name\n",
    "df.loc[[0,1], 'PinCode']"
   ]
  },
  {
   "cell_type": "code",
   "execution_count": 20,
   "metadata": {},
   "outputs": [
    {
     "data": {
      "text/html": [
       "<div>\n",
       "<style scoped>\n",
       "    .dataframe tbody tr th:only-of-type {\n",
       "        vertical-align: middle;\n",
       "    }\n",
       "\n",
       "    .dataframe tbody tr th {\n",
       "        vertical-align: top;\n",
       "    }\n",
       "\n",
       "    .dataframe thead th {\n",
       "        text-align: right;\n",
       "    }\n",
       "</style>\n",
       "<table border=\"1\" class=\"dataframe\">\n",
       "  <thead>\n",
       "    <tr style=\"text-align: right;\">\n",
       "      <th></th>\n",
       "      <th>Hobby</th>\n",
       "      <th>FName</th>\n",
       "    </tr>\n",
       "  </thead>\n",
       "  <tbody>\n",
       "    <tr>\n",
       "      <th>0</th>\n",
       "      <td>Reading</td>\n",
       "      <td>Mukesh</td>\n",
       "    </tr>\n",
       "    <tr>\n",
       "      <th>1</th>\n",
       "      <td>Study</td>\n",
       "      <td>Admin</td>\n",
       "    </tr>\n",
       "  </tbody>\n",
       "</table>\n",
       "</div>"
      ],
      "text/plain": [
       "     Hobby   FName\n",
       "0  Reading  Mukesh\n",
       "1    Study   Admin"
      ]
     },
     "execution_count": 20,
     "metadata": {},
     "output_type": "execute_result"
    }
   ],
   "source": [
    "# in the above line I've mentioned only 1 column name, if you want to access multiple column than pass list of columns\n",
    "\n",
    "df.loc[[0,1], ['Hobby','FName']]"
   ]
  },
  {
   "cell_type": "code",
   "execution_count": null,
   "metadata": {},
   "outputs": [],
   "source": []
  },
  {
   "cell_type": "markdown",
   "metadata": {},
   "source": [
    "### Set Reset and use Index \n",
    "   - index selection should be unique"
   ]
  },
  {
   "cell_type": "code",
   "execution_count": 21,
   "metadata": {},
   "outputs": [
    {
     "data": {
      "text/html": [
       "<div>\n",
       "<style scoped>\n",
       "    .dataframe tbody tr th:only-of-type {\n",
       "        vertical-align: middle;\n",
       "    }\n",
       "\n",
       "    .dataframe tbody tr th {\n",
       "        vertical-align: top;\n",
       "    }\n",
       "\n",
       "    .dataframe thead th {\n",
       "        text-align: right;\n",
       "    }\n",
       "</style>\n",
       "<table border=\"1\" class=\"dataframe\">\n",
       "  <thead>\n",
       "    <tr style=\"text-align: right;\">\n",
       "      <th></th>\n",
       "      <th>FName</th>\n",
       "      <th>LName</th>\n",
       "      <th>Occupation</th>\n",
       "      <th>Location</th>\n",
       "      <th>PinCode</th>\n",
       "    </tr>\n",
       "    <tr>\n",
       "      <th>Hobby</th>\n",
       "      <th></th>\n",
       "      <th></th>\n",
       "      <th></th>\n",
       "      <th></th>\n",
       "      <th></th>\n",
       "    </tr>\n",
       "  </thead>\n",
       "  <tbody>\n",
       "    <tr>\n",
       "      <th>Reading</th>\n",
       "      <td>Mukesh</td>\n",
       "      <td>Yadav</td>\n",
       "      <td>Engineer</td>\n",
       "      <td>Jaipur</td>\n",
       "      <td>303106</td>\n",
       "    </tr>\n",
       "    <tr>\n",
       "      <th>Study</th>\n",
       "      <td>Admin</td>\n",
       "      <td>admin</td>\n",
       "      <td>Product Ownor</td>\n",
       "      <td>Delhi</td>\n",
       "      <td>302020</td>\n",
       "    </tr>\n",
       "    <tr>\n",
       "      <th>playing</th>\n",
       "      <td>Raja</td>\n",
       "      <td>Sastri</td>\n",
       "      <td>Architect</td>\n",
       "      <td>Pink city</td>\n",
       "      <td>302016</td>\n",
       "    </tr>\n",
       "  </tbody>\n",
       "</table>\n",
       "</div>"
      ],
      "text/plain": [
       "          FName   LName     Occupation   Location PinCode\n",
       "Hobby                                                    \n",
       "Reading  Mukesh   Yadav       Engineer     Jaipur  303106\n",
       "Study     Admin   admin  Product Ownor      Delhi  302020\n",
       "playing    Raja  Sastri      Architect  Pink city  302016"
      ]
     },
     "execution_count": 21,
     "metadata": {},
     "output_type": "execute_result"
    }
   ],
   "source": [
    "#Basically select the unique column for the index like empID columns or emailID\n",
    "\n",
    "df.set_index('Hobby')"
   ]
  },
  {
   "cell_type": "code",
   "execution_count": 22,
   "metadata": {},
   "outputs": [
    {
     "data": {
      "text/html": [
       "<div>\n",
       "<style scoped>\n",
       "    .dataframe tbody tr th:only-of-type {\n",
       "        vertical-align: middle;\n",
       "    }\n",
       "\n",
       "    .dataframe tbody tr th {\n",
       "        vertical-align: top;\n",
       "    }\n",
       "\n",
       "    .dataframe thead th {\n",
       "        text-align: right;\n",
       "    }\n",
       "</style>\n",
       "<table border=\"1\" class=\"dataframe\">\n",
       "  <thead>\n",
       "    <tr style=\"text-align: right;\">\n",
       "      <th></th>\n",
       "      <th>FName</th>\n",
       "      <th>LName</th>\n",
       "      <th>Occupation</th>\n",
       "      <th>Location</th>\n",
       "      <th>PinCode</th>\n",
       "      <th>Hobby</th>\n",
       "    </tr>\n",
       "  </thead>\n",
       "  <tbody>\n",
       "    <tr>\n",
       "      <th>0</th>\n",
       "      <td>Mukesh</td>\n",
       "      <td>Yadav</td>\n",
       "      <td>Engineer</td>\n",
       "      <td>Jaipur</td>\n",
       "      <td>303106</td>\n",
       "      <td>Reading</td>\n",
       "    </tr>\n",
       "    <tr>\n",
       "      <th>1</th>\n",
       "      <td>Admin</td>\n",
       "      <td>admin</td>\n",
       "      <td>Product Ownor</td>\n",
       "      <td>Delhi</td>\n",
       "      <td>302020</td>\n",
       "      <td>Study</td>\n",
       "    </tr>\n",
       "    <tr>\n",
       "      <th>2</th>\n",
       "      <td>Raja</td>\n",
       "      <td>Sastri</td>\n",
       "      <td>Architect</td>\n",
       "      <td>Pink city</td>\n",
       "      <td>302016</td>\n",
       "      <td>playing</td>\n",
       "    </tr>\n",
       "  </tbody>\n",
       "</table>\n",
       "</div>"
      ],
      "text/plain": [
       "    FName   LName     Occupation   Location PinCode    Hobby\n",
       "0  Mukesh   Yadav       Engineer     Jaipur  303106  Reading\n",
       "1   Admin   admin  Product Ownor      Delhi  302020    Study\n",
       "2    Raja  Sastri      Architect  Pink city  302016  playing"
      ]
     },
     "execution_count": 22,
     "metadata": {},
     "output_type": "execute_result"
    }
   ],
   "source": [
    "df\n"
   ]
  },
  {
   "cell_type": "code",
   "execution_count": 23,
   "metadata": {},
   "outputs": [],
   "source": [
    "# To reflect the changes in the original data frame - \n",
    "\n",
    "df.set_index('Hobby', inplace=True)"
   ]
  },
  {
   "cell_type": "code",
   "execution_count": 24,
   "metadata": {},
   "outputs": [
    {
     "data": {
      "text/html": [
       "<div>\n",
       "<style scoped>\n",
       "    .dataframe tbody tr th:only-of-type {\n",
       "        vertical-align: middle;\n",
       "    }\n",
       "\n",
       "    .dataframe tbody tr th {\n",
       "        vertical-align: top;\n",
       "    }\n",
       "\n",
       "    .dataframe thead th {\n",
       "        text-align: right;\n",
       "    }\n",
       "</style>\n",
       "<table border=\"1\" class=\"dataframe\">\n",
       "  <thead>\n",
       "    <tr style=\"text-align: right;\">\n",
       "      <th></th>\n",
       "      <th>FName</th>\n",
       "      <th>LName</th>\n",
       "      <th>Occupation</th>\n",
       "      <th>Location</th>\n",
       "      <th>PinCode</th>\n",
       "    </tr>\n",
       "    <tr>\n",
       "      <th>Hobby</th>\n",
       "      <th></th>\n",
       "      <th></th>\n",
       "      <th></th>\n",
       "      <th></th>\n",
       "      <th></th>\n",
       "    </tr>\n",
       "  </thead>\n",
       "  <tbody>\n",
       "    <tr>\n",
       "      <th>Reading</th>\n",
       "      <td>Mukesh</td>\n",
       "      <td>Yadav</td>\n",
       "      <td>Engineer</td>\n",
       "      <td>Jaipur</td>\n",
       "      <td>303106</td>\n",
       "    </tr>\n",
       "    <tr>\n",
       "      <th>Study</th>\n",
       "      <td>Admin</td>\n",
       "      <td>admin</td>\n",
       "      <td>Product Ownor</td>\n",
       "      <td>Delhi</td>\n",
       "      <td>302020</td>\n",
       "    </tr>\n",
       "    <tr>\n",
       "      <th>playing</th>\n",
       "      <td>Raja</td>\n",
       "      <td>Sastri</td>\n",
       "      <td>Architect</td>\n",
       "      <td>Pink city</td>\n",
       "      <td>302016</td>\n",
       "    </tr>\n",
       "  </tbody>\n",
       "</table>\n",
       "</div>"
      ],
      "text/plain": [
       "          FName   LName     Occupation   Location PinCode\n",
       "Hobby                                                    \n",
       "Reading  Mukesh   Yadav       Engineer     Jaipur  303106\n",
       "Study     Admin   admin  Product Ownor      Delhi  302020\n",
       "playing    Raja  Sastri      Architect  Pink city  302016"
      ]
     },
     "execution_count": 24,
     "metadata": {},
     "output_type": "execute_result"
    }
   ],
   "source": [
    "df"
   ]
  },
  {
   "cell_type": "code",
   "execution_count": 25,
   "metadata": {},
   "outputs": [
    {
     "data": {
      "text/plain": [
       "FName           Mukesh\n",
       "LName            Yadav\n",
       "Occupation    Engineer\n",
       "Location        Jaipur\n",
       "PinCode         303106\n",
       "Name: Reading, dtype: object"
      ]
     },
     "execution_count": 25,
     "metadata": {},
     "output_type": "execute_result"
    }
   ],
   "source": [
    "# Previous we're using index from 0--n to access the rows but now we have set the new index so access like below-\n",
    "\n",
    "df.loc['Reading']"
   ]
  },
  {
   "cell_type": "code",
   "execution_count": 26,
   "metadata": {},
   "outputs": [
    {
     "data": {
      "text/plain": [
       "FName           Mukesh\n",
       "LName            Yadav\n",
       "Occupation    Engineer\n",
       "Location        Jaipur\n",
       "PinCode         303106\n",
       "Name: Reading, dtype: object"
      ]
     },
     "execution_count": 26,
     "metadata": {},
     "output_type": "execute_result"
    }
   ],
   "source": [
    "# But the index access from 0--n will work with iloc\n",
    "\n",
    "df.iloc[0]"
   ]
  },
  {
   "cell_type": "code",
   "execution_count": 27,
   "metadata": {},
   "outputs": [
    {
     "data": {
      "text/html": [
       "<div>\n",
       "<style scoped>\n",
       "    .dataframe tbody tr th:only-of-type {\n",
       "        vertical-align: middle;\n",
       "    }\n",
       "\n",
       "    .dataframe tbody tr th {\n",
       "        vertical-align: top;\n",
       "    }\n",
       "\n",
       "    .dataframe thead th {\n",
       "        text-align: right;\n",
       "    }\n",
       "</style>\n",
       "<table border=\"1\" class=\"dataframe\">\n",
       "  <thead>\n",
       "    <tr style=\"text-align: right;\">\n",
       "      <th></th>\n",
       "      <th>Hobby</th>\n",
       "      <th>FName</th>\n",
       "      <th>LName</th>\n",
       "      <th>Occupation</th>\n",
       "      <th>Location</th>\n",
       "      <th>PinCode</th>\n",
       "    </tr>\n",
       "  </thead>\n",
       "  <tbody>\n",
       "    <tr>\n",
       "      <th>0</th>\n",
       "      <td>Reading</td>\n",
       "      <td>Mukesh</td>\n",
       "      <td>Yadav</td>\n",
       "      <td>Engineer</td>\n",
       "      <td>Jaipur</td>\n",
       "      <td>303106</td>\n",
       "    </tr>\n",
       "    <tr>\n",
       "      <th>1</th>\n",
       "      <td>Study</td>\n",
       "      <td>Admin</td>\n",
       "      <td>admin</td>\n",
       "      <td>Product Ownor</td>\n",
       "      <td>Delhi</td>\n",
       "      <td>302020</td>\n",
       "    </tr>\n",
       "    <tr>\n",
       "      <th>2</th>\n",
       "      <td>playing</td>\n",
       "      <td>Raja</td>\n",
       "      <td>Sastri</td>\n",
       "      <td>Architect</td>\n",
       "      <td>Pink city</td>\n",
       "      <td>302016</td>\n",
       "    </tr>\n",
       "  </tbody>\n",
       "</table>\n",
       "</div>"
      ],
      "text/plain": [
       "     Hobby   FName   LName     Occupation   Location PinCode\n",
       "0  Reading  Mukesh   Yadav       Engineer     Jaipur  303106\n",
       "1    Study   Admin   admin  Product Ownor      Delhi  302020\n",
       "2  playing    Raja  Sastri      Architect  Pink city  302016"
      ]
     },
     "execution_count": 27,
     "metadata": {},
     "output_type": "execute_result"
    }
   ],
   "source": [
    "# For reset index\n",
    "\n",
    "df.reset_index(inplace=True)\n",
    "df"
   ]
  },
  {
   "cell_type": "code",
   "execution_count": null,
   "metadata": {},
   "outputs": [],
   "source": []
  },
  {
   "cell_type": "code",
   "execution_count": null,
   "metadata": {},
   "outputs": [],
   "source": []
  },
  {
   "cell_type": "markdown",
   "metadata": {},
   "source": [
    "### Filtering  - Using conditionals to filter Rows & Columns"
   ]
  },
  {
   "cell_type": "code",
   "execution_count": 28,
   "metadata": {},
   "outputs": [
    {
     "data": {
      "text/plain": [
       "0     True\n",
       "1    False\n",
       "2    False\n",
       "Name: Hobby, dtype: bool"
      ]
     },
     "execution_count": 28,
     "metadata": {},
     "output_type": "execute_result"
    }
   ],
   "source": [
    "df['Hobby'] == 'Reading'"
   ]
  },
  {
   "cell_type": "code",
   "execution_count": 29,
   "metadata": {},
   "outputs": [],
   "source": [
    "# Assign filter condition to our entire data frame - \n",
    "\n",
    "filterObj = (df['Hobby'] == 'Reading')"
   ]
  },
  {
   "cell_type": "code",
   "execution_count": 30,
   "metadata": {},
   "outputs": [
    {
     "data": {
      "text/html": [
       "<div>\n",
       "<style scoped>\n",
       "    .dataframe tbody tr th:only-of-type {\n",
       "        vertical-align: middle;\n",
       "    }\n",
       "\n",
       "    .dataframe tbody tr th {\n",
       "        vertical-align: top;\n",
       "    }\n",
       "\n",
       "    .dataframe thead th {\n",
       "        text-align: right;\n",
       "    }\n",
       "</style>\n",
       "<table border=\"1\" class=\"dataframe\">\n",
       "  <thead>\n",
       "    <tr style=\"text-align: right;\">\n",
       "      <th></th>\n",
       "      <th>Hobby</th>\n",
       "      <th>FName</th>\n",
       "      <th>LName</th>\n",
       "      <th>Occupation</th>\n",
       "      <th>Location</th>\n",
       "      <th>PinCode</th>\n",
       "    </tr>\n",
       "  </thead>\n",
       "  <tbody>\n",
       "    <tr>\n",
       "      <th>0</th>\n",
       "      <td>Reading</td>\n",
       "      <td>Mukesh</td>\n",
       "      <td>Yadav</td>\n",
       "      <td>Engineer</td>\n",
       "      <td>Jaipur</td>\n",
       "      <td>303106</td>\n",
       "    </tr>\n",
       "  </tbody>\n",
       "</table>\n",
       "</div>"
      ],
      "text/plain": [
       "     Hobby   FName  LName Occupation Location PinCode\n",
       "0  Reading  Mukesh  Yadav   Engineer   Jaipur  303106"
      ]
     },
     "execution_count": 30,
     "metadata": {},
     "output_type": "execute_result"
    }
   ],
   "source": [
    "#1st approach to assign to data frame - \n",
    "\n",
    "df[filterObj]"
   ]
  },
  {
   "cell_type": "code",
   "execution_count": 31,
   "metadata": {},
   "outputs": [
    {
     "data": {
      "text/html": [
       "<div>\n",
       "<style scoped>\n",
       "    .dataframe tbody tr th:only-of-type {\n",
       "        vertical-align: middle;\n",
       "    }\n",
       "\n",
       "    .dataframe tbody tr th {\n",
       "        vertical-align: top;\n",
       "    }\n",
       "\n",
       "    .dataframe thead th {\n",
       "        text-align: right;\n",
       "    }\n",
       "</style>\n",
       "<table border=\"1\" class=\"dataframe\">\n",
       "  <thead>\n",
       "    <tr style=\"text-align: right;\">\n",
       "      <th></th>\n",
       "      <th>Hobby</th>\n",
       "      <th>FName</th>\n",
       "      <th>LName</th>\n",
       "      <th>Occupation</th>\n",
       "      <th>Location</th>\n",
       "      <th>PinCode</th>\n",
       "    </tr>\n",
       "  </thead>\n",
       "  <tbody>\n",
       "    <tr>\n",
       "      <th>0</th>\n",
       "      <td>Reading</td>\n",
       "      <td>Mukesh</td>\n",
       "      <td>Yadav</td>\n",
       "      <td>Engineer</td>\n",
       "      <td>Jaipur</td>\n",
       "      <td>303106</td>\n",
       "    </tr>\n",
       "  </tbody>\n",
       "</table>\n",
       "</div>"
      ],
      "text/plain": [
       "     Hobby   FName  LName Occupation Location PinCode\n",
       "0  Reading  Mukesh  Yadav   Engineer   Jaipur  303106"
      ]
     },
     "execution_count": 31,
     "metadata": {},
     "output_type": "execute_result"
    }
   ],
   "source": [
    "#2nd approach to assign to data frame - \n",
    "\n",
    "df[df['Hobby'] == 'Reading']"
   ]
  },
  {
   "cell_type": "code",
   "execution_count": 32,
   "metadata": {},
   "outputs": [
    {
     "data": {
      "text/html": [
       "<div>\n",
       "<style scoped>\n",
       "    .dataframe tbody tr th:only-of-type {\n",
       "        vertical-align: middle;\n",
       "    }\n",
       "\n",
       "    .dataframe tbody tr th {\n",
       "        vertical-align: top;\n",
       "    }\n",
       "\n",
       "    .dataframe thead th {\n",
       "        text-align: right;\n",
       "    }\n",
       "</style>\n",
       "<table border=\"1\" class=\"dataframe\">\n",
       "  <thead>\n",
       "    <tr style=\"text-align: right;\">\n",
       "      <th></th>\n",
       "      <th>Hobby</th>\n",
       "      <th>FName</th>\n",
       "      <th>LName</th>\n",
       "      <th>Occupation</th>\n",
       "      <th>Location</th>\n",
       "      <th>PinCode</th>\n",
       "    </tr>\n",
       "  </thead>\n",
       "  <tbody>\n",
       "    <tr>\n",
       "      <th>0</th>\n",
       "      <td>Reading</td>\n",
       "      <td>Mukesh</td>\n",
       "      <td>Yadav</td>\n",
       "      <td>Engineer</td>\n",
       "      <td>Jaipur</td>\n",
       "      <td>303106</td>\n",
       "    </tr>\n",
       "  </tbody>\n",
       "</table>\n",
       "</div>"
      ],
      "text/plain": [
       "     Hobby   FName  LName Occupation Location PinCode\n",
       "0  Reading  Mukesh  Yadav   Engineer   Jaipur  303106"
      ]
     },
     "execution_count": 32,
     "metadata": {},
     "output_type": "execute_result"
    }
   ],
   "source": [
    "#3rd approach to assign to data frame -  \n",
    "# I prefer this approach bcz in the loc still we can do filtering based on the labels \n",
    "\n",
    "\n",
    "df.loc[filterObj]\n",
    "\n",
    "#df.loc[filterObj, 'Location'] here Location is the column name, so the records which satisfy the boolean condition based on the column will appear here."
   ]
  },
  {
   "cell_type": "code",
   "execution_count": 33,
   "metadata": {},
   "outputs": [],
   "source": [
    "# We can have many filtering condition using and(&), or(|) \n",
    "\n",
    "filerObj = (df['Hobby']=='Reading') & (df['FName']=='Mukesh')\n",
    "\n",
    "#filerObj = (df['Hobby']=='Study') | (df['FName']=='Admin')"
   ]
  },
  {
   "cell_type": "code",
   "execution_count": 34,
   "metadata": {},
   "outputs": [
    {
     "data": {
      "text/html": [
       "<div>\n",
       "<style scoped>\n",
       "    .dataframe tbody tr th:only-of-type {\n",
       "        vertical-align: middle;\n",
       "    }\n",
       "\n",
       "    .dataframe tbody tr th {\n",
       "        vertical-align: top;\n",
       "    }\n",
       "\n",
       "    .dataframe thead th {\n",
       "        text-align: right;\n",
       "    }\n",
       "</style>\n",
       "<table border=\"1\" class=\"dataframe\">\n",
       "  <thead>\n",
       "    <tr style=\"text-align: right;\">\n",
       "      <th></th>\n",
       "      <th>Hobby</th>\n",
       "      <th>FName</th>\n",
       "      <th>LName</th>\n",
       "      <th>Occupation</th>\n",
       "      <th>Location</th>\n",
       "      <th>PinCode</th>\n",
       "    </tr>\n",
       "  </thead>\n",
       "  <tbody>\n",
       "    <tr>\n",
       "      <th>0</th>\n",
       "      <td>Reading</td>\n",
       "      <td>Mukesh</td>\n",
       "      <td>Yadav</td>\n",
       "      <td>Engineer</td>\n",
       "      <td>Jaipur</td>\n",
       "      <td>303106</td>\n",
       "    </tr>\n",
       "  </tbody>\n",
       "</table>\n",
       "</div>"
      ],
      "text/plain": [
       "     Hobby   FName  LName Occupation Location PinCode\n",
       "0  Reading  Mukesh  Yadav   Engineer   Jaipur  303106"
      ]
     },
     "execution_count": 34,
     "metadata": {},
     "output_type": "execute_result"
    }
   ],
   "source": [
    "df.loc[filerObj]"
   ]
  },
  {
   "cell_type": "code",
   "execution_count": 35,
   "metadata": {},
   "outputs": [
    {
     "data": {
      "text/plain": [
       "1    Product Ownor\n",
       "2        Architect\n",
       "Name: Occupation, dtype: object"
      ]
     },
     "execution_count": 35,
     "metadata": {},
     "output_type": "execute_result"
    }
   ],
   "source": [
    "# Also we can do a negative condition\n",
    "df.loc[~filerObj, 'Occupation']"
   ]
  },
  {
   "cell_type": "code",
   "execution_count": null,
   "metadata": {},
   "outputs": [],
   "source": []
  },
  {
   "cell_type": "code",
   "execution_count": null,
   "metadata": {},
   "outputs": [],
   "source": []
  },
  {
   "cell_type": "markdown",
   "metadata": {},
   "source": [
    "### Updating rows and columns \n",
    "   - Modify data within the data frame"
   ]
  },
  {
   "cell_type": "code",
   "execution_count": 36,
   "metadata": {},
   "outputs": [
    {
     "data": {
      "text/html": [
       "<div>\n",
       "<style scoped>\n",
       "    .dataframe tbody tr th:only-of-type {\n",
       "        vertical-align: middle;\n",
       "    }\n",
       "\n",
       "    .dataframe tbody tr th {\n",
       "        vertical-align: top;\n",
       "    }\n",
       "\n",
       "    .dataframe thead th {\n",
       "        text-align: right;\n",
       "    }\n",
       "</style>\n",
       "<table border=\"1\" class=\"dataframe\">\n",
       "  <thead>\n",
       "    <tr style=\"text-align: right;\">\n",
       "      <th></th>\n",
       "      <th>Hobby</th>\n",
       "      <th>FName</th>\n",
       "      <th>LName</th>\n",
       "      <th>Occupation</th>\n",
       "      <th>Location</th>\n",
       "      <th>PinCode</th>\n",
       "    </tr>\n",
       "  </thead>\n",
       "  <tbody>\n",
       "    <tr>\n",
       "      <th>0</th>\n",
       "      <td>Reading</td>\n",
       "      <td>Mukesh</td>\n",
       "      <td>Yadav</td>\n",
       "      <td>Engineer</td>\n",
       "      <td>Jaipur</td>\n",
       "      <td>303106</td>\n",
       "    </tr>\n",
       "    <tr>\n",
       "      <th>1</th>\n",
       "      <td>Study</td>\n",
       "      <td>Admin</td>\n",
       "      <td>admin</td>\n",
       "      <td>Product Ownor</td>\n",
       "      <td>Delhi</td>\n",
       "      <td>302020</td>\n",
       "    </tr>\n",
       "    <tr>\n",
       "      <th>2</th>\n",
       "      <td>playing</td>\n",
       "      <td>Raja</td>\n",
       "      <td>Sastri</td>\n",
       "      <td>Architect</td>\n",
       "      <td>Pink city</td>\n",
       "      <td>302016</td>\n",
       "    </tr>\n",
       "  </tbody>\n",
       "</table>\n",
       "</div>"
      ],
      "text/plain": [
       "     Hobby   FName   LName     Occupation   Location PinCode\n",
       "0  Reading  Mukesh   Yadav       Engineer     Jaipur  303106\n",
       "1    Study   Admin   admin  Product Ownor      Delhi  302020\n",
       "2  playing    Raja  Sastri      Architect  Pink city  302016"
      ]
     },
     "execution_count": 36,
     "metadata": {},
     "output_type": "execute_result"
    }
   ],
   "source": [
    "df"
   ]
  },
  {
   "cell_type": "code",
   "execution_count": null,
   "metadata": {},
   "outputs": [],
   "source": [
    "\n"
   ]
  },
  {
   "cell_type": "code",
   "execution_count": 37,
   "metadata": {},
   "outputs": [
    {
     "data": {
      "text/html": [
       "<div>\n",
       "<style scoped>\n",
       "    .dataframe tbody tr th:only-of-type {\n",
       "        vertical-align: middle;\n",
       "    }\n",
       "\n",
       "    .dataframe tbody tr th {\n",
       "        vertical-align: top;\n",
       "    }\n",
       "\n",
       "    .dataframe thead th {\n",
       "        text-align: right;\n",
       "    }\n",
       "</style>\n",
       "<table border=\"1\" class=\"dataframe\">\n",
       "  <thead>\n",
       "    <tr style=\"text-align: right;\">\n",
       "      <th></th>\n",
       "      <th>User_Hobby</th>\n",
       "      <th>First_Name</th>\n",
       "      <th>Last_Name</th>\n",
       "      <th>Emp_Occupation</th>\n",
       "      <th>User-Location</th>\n",
       "      <th>AreaCode</th>\n",
       "    </tr>\n",
       "  </thead>\n",
       "  <tbody>\n",
       "    <tr>\n",
       "      <th>0</th>\n",
       "      <td>Reading</td>\n",
       "      <td>Mukesh</td>\n",
       "      <td>Yadav</td>\n",
       "      <td>Engineer</td>\n",
       "      <td>Jaipur</td>\n",
       "      <td>303106</td>\n",
       "    </tr>\n",
       "    <tr>\n",
       "      <th>1</th>\n",
       "      <td>Study</td>\n",
       "      <td>Admin</td>\n",
       "      <td>admin</td>\n",
       "      <td>Product Ownor</td>\n",
       "      <td>Delhi</td>\n",
       "      <td>302020</td>\n",
       "    </tr>\n",
       "    <tr>\n",
       "      <th>2</th>\n",
       "      <td>playing</td>\n",
       "      <td>Raja</td>\n",
       "      <td>Sastri</td>\n",
       "      <td>Architect</td>\n",
       "      <td>Pink city</td>\n",
       "      <td>302016</td>\n",
       "    </tr>\n",
       "  </tbody>\n",
       "</table>\n",
       "</div>"
      ],
      "text/plain": [
       "  User_Hobby First_Name Last_Name Emp_Occupation User-Location AreaCode\n",
       "0    Reading     Mukesh     Yadav       Engineer        Jaipur   303106\n",
       "1      Study      Admin     admin  Product Ownor         Delhi   302020\n",
       "2    playing       Raja    Sastri      Architect     Pink city   302016"
      ]
     },
     "execution_count": 37,
     "metadata": {},
     "output_type": "execute_result"
    }
   ],
   "source": [
    "# I can see columns name and here I want to update some other name of the columns\n",
    "\n",
    "df.columns = ['User_Hobby', 'First_Name', 'Last_Name', 'Emp_Occupation', 'User-Location','AreaCode']\n",
    "df"
   ]
  },
  {
   "cell_type": "code",
   "execution_count": 38,
   "metadata": {},
   "outputs": [
    {
     "data": {
      "text/html": [
       "<div>\n",
       "<style scoped>\n",
       "    .dataframe tbody tr th:only-of-type {\n",
       "        vertical-align: middle;\n",
       "    }\n",
       "\n",
       "    .dataframe tbody tr th {\n",
       "        vertical-align: top;\n",
       "    }\n",
       "\n",
       "    .dataframe thead th {\n",
       "        text-align: right;\n",
       "    }\n",
       "</style>\n",
       "<table border=\"1\" class=\"dataframe\">\n",
       "  <thead>\n",
       "    <tr style=\"text-align: right;\">\n",
       "      <th></th>\n",
       "      <th>USER_HOBBY</th>\n",
       "      <th>FIRST_NAME</th>\n",
       "      <th>LAST_NAME</th>\n",
       "      <th>EMP_OCCUPATION</th>\n",
       "      <th>USER-LOCATION</th>\n",
       "      <th>AREACODE</th>\n",
       "    </tr>\n",
       "  </thead>\n",
       "  <tbody>\n",
       "    <tr>\n",
       "      <th>0</th>\n",
       "      <td>Reading</td>\n",
       "      <td>Mukesh</td>\n",
       "      <td>Yadav</td>\n",
       "      <td>Engineer</td>\n",
       "      <td>Jaipur</td>\n",
       "      <td>303106</td>\n",
       "    </tr>\n",
       "    <tr>\n",
       "      <th>1</th>\n",
       "      <td>Study</td>\n",
       "      <td>Admin</td>\n",
       "      <td>admin</td>\n",
       "      <td>Product Ownor</td>\n",
       "      <td>Delhi</td>\n",
       "      <td>302020</td>\n",
       "    </tr>\n",
       "    <tr>\n",
       "      <th>2</th>\n",
       "      <td>playing</td>\n",
       "      <td>Raja</td>\n",
       "      <td>Sastri</td>\n",
       "      <td>Architect</td>\n",
       "      <td>Pink city</td>\n",
       "      <td>302016</td>\n",
       "    </tr>\n",
       "  </tbody>\n",
       "</table>\n",
       "</div>"
      ],
      "text/plain": [
       "  USER_HOBBY FIRST_NAME LAST_NAME EMP_OCCUPATION USER-LOCATION AREACODE\n",
       "0    Reading     Mukesh     Yadav       Engineer        Jaipur   303106\n",
       "1      Study      Admin     admin  Product Ownor         Delhi   302020\n",
       "2    playing       Raja    Sastri      Architect     Pink city   302016"
      ]
     },
     "execution_count": 38,
     "metadata": {},
     "output_type": "execute_result"
    }
   ],
   "source": [
    "# If there's a requirment of updating the column name as uppe or lower, we can use list comprehension\n",
    "\n",
    "df.columns = [x.upper() for x in df.columns]\n",
    "df"
   ]
  },
  {
   "cell_type": "code",
   "execution_count": 39,
   "metadata": {},
   "outputs": [
    {
     "data": {
      "text/html": [
       "<div>\n",
       "<style scoped>\n",
       "    .dataframe tbody tr th:only-of-type {\n",
       "        vertical-align: middle;\n",
       "    }\n",
       "\n",
       "    .dataframe tbody tr th {\n",
       "        vertical-align: top;\n",
       "    }\n",
       "\n",
       "    .dataframe thead th {\n",
       "        text-align: right;\n",
       "    }\n",
       "</style>\n",
       "<table border=\"1\" class=\"dataframe\">\n",
       "  <thead>\n",
       "    <tr style=\"text-align: right;\">\n",
       "      <th></th>\n",
       "      <th>USER HOBBY</th>\n",
       "      <th>FIRST NAME</th>\n",
       "      <th>LAST NAME</th>\n",
       "      <th>EMP OCCUPATION</th>\n",
       "      <th>USER-LOCATION</th>\n",
       "      <th>AREACODE</th>\n",
       "    </tr>\n",
       "  </thead>\n",
       "  <tbody>\n",
       "    <tr>\n",
       "      <th>0</th>\n",
       "      <td>Reading</td>\n",
       "      <td>Mukesh</td>\n",
       "      <td>Yadav</td>\n",
       "      <td>Engineer</td>\n",
       "      <td>Jaipur</td>\n",
       "      <td>303106</td>\n",
       "    </tr>\n",
       "    <tr>\n",
       "      <th>1</th>\n",
       "      <td>Study</td>\n",
       "      <td>Admin</td>\n",
       "      <td>admin</td>\n",
       "      <td>Product Ownor</td>\n",
       "      <td>Delhi</td>\n",
       "      <td>302020</td>\n",
       "    </tr>\n",
       "    <tr>\n",
       "      <th>2</th>\n",
       "      <td>playing</td>\n",
       "      <td>Raja</td>\n",
       "      <td>Sastri</td>\n",
       "      <td>Architect</td>\n",
       "      <td>Pink city</td>\n",
       "      <td>302016</td>\n",
       "    </tr>\n",
       "  </tbody>\n",
       "</table>\n",
       "</div>"
      ],
      "text/plain": [
       "  USER HOBBY FIRST NAME LAST NAME EMP OCCUPATION USER-LOCATION AREACODE\n",
       "0    Reading     Mukesh     Yadav       Engineer        Jaipur   303106\n",
       "1      Study      Admin     admin  Product Ownor         Delhi   302020\n",
       "2    playing       Raja    Sastri      Architect     Pink city   302016"
      ]
     },
     "execution_count": 39,
     "metadata": {},
     "output_type": "execute_result"
    }
   ],
   "source": [
    "# If you want to replace (_) from the columns -\n",
    "\n",
    "df.columns = df.columns.str.replace('_', ' ') # Here I replaced _ with space.\n",
    "df\n"
   ]
  },
  {
   "cell_type": "code",
   "execution_count": 40,
   "metadata": {},
   "outputs": [
    {
     "data": {
      "text/html": [
       "<div>\n",
       "<style scoped>\n",
       "    .dataframe tbody tr th:only-of-type {\n",
       "        vertical-align: middle;\n",
       "    }\n",
       "\n",
       "    .dataframe tbody tr th {\n",
       "        vertical-align: top;\n",
       "    }\n",
       "\n",
       "    .dataframe thead th {\n",
       "        text-align: right;\n",
       "    }\n",
       "</style>\n",
       "<table border=\"1\" class=\"dataframe\">\n",
       "  <thead>\n",
       "    <tr style=\"text-align: right;\">\n",
       "      <th></th>\n",
       "      <th>User_Hobby</th>\n",
       "      <th>First_Name</th>\n",
       "      <th>Last_Name</th>\n",
       "      <th>Emp_Occupation</th>\n",
       "      <th>User_Location</th>\n",
       "      <th>AreaCode</th>\n",
       "    </tr>\n",
       "  </thead>\n",
       "  <tbody>\n",
       "    <tr>\n",
       "      <th>0</th>\n",
       "      <td>Reading</td>\n",
       "      <td>Mukesh</td>\n",
       "      <td>Yadav</td>\n",
       "      <td>Engineer</td>\n",
       "      <td>Jaipur</td>\n",
       "      <td>303106</td>\n",
       "    </tr>\n",
       "    <tr>\n",
       "      <th>1</th>\n",
       "      <td>Study</td>\n",
       "      <td>Admin</td>\n",
       "      <td>admin</td>\n",
       "      <td>Product Ownor</td>\n",
       "      <td>Delhi</td>\n",
       "      <td>302020</td>\n",
       "    </tr>\n",
       "    <tr>\n",
       "      <th>2</th>\n",
       "      <td>playing</td>\n",
       "      <td>Raja</td>\n",
       "      <td>Sastri</td>\n",
       "      <td>Architect</td>\n",
       "      <td>Pink city</td>\n",
       "      <td>302016</td>\n",
       "    </tr>\n",
       "  </tbody>\n",
       "</table>\n",
       "</div>"
      ],
      "text/plain": [
       "  User_Hobby First_Name Last_Name Emp_Occupation User_Location AreaCode\n",
       "0    Reading     Mukesh     Yadav       Engineer        Jaipur   303106\n",
       "1      Study      Admin     admin  Product Ownor         Delhi   302020\n",
       "2    playing       Raja    Sastri      Architect     Pink city   302016"
      ]
     },
     "execution_count": 40,
     "metadata": {},
     "output_type": "execute_result"
    }
   ],
   "source": [
    "# Also We can use dictionary for columns replacement/changes, here i am reverting back to the original columns changes.\n",
    "\n",
    "df.rename(columns={\n",
    "    'USER HOBBY': 'User_Hobby',\n",
    "    'FIRST NAME':'First_Name',\n",
    "    'LAST NAME':'Last_Name',\n",
    "    'EMP OCCUPATION': 'Emp_Occupation',\n",
    "    'USER-LOCATION':'User_Location',\n",
    "    'AREACODE':'AreaCode'\n",
    "    \n",
    "}, inplace=True)\n",
    "df"
   ]
  },
  {
   "cell_type": "code",
   "execution_count": 41,
   "metadata": {},
   "outputs": [
    {
     "data": {
      "text/html": [
       "<div>\n",
       "<style scoped>\n",
       "    .dataframe tbody tr th:only-of-type {\n",
       "        vertical-align: middle;\n",
       "    }\n",
       "\n",
       "    .dataframe tbody tr th {\n",
       "        vertical-align: top;\n",
       "    }\n",
       "\n",
       "    .dataframe thead th {\n",
       "        text-align: right;\n",
       "    }\n",
       "</style>\n",
       "<table border=\"1\" class=\"dataframe\">\n",
       "  <thead>\n",
       "    <tr style=\"text-align: right;\">\n",
       "      <th></th>\n",
       "      <th>User_Hobby</th>\n",
       "      <th>First_Name</th>\n",
       "      <th>Last_Name</th>\n",
       "      <th>Emp_Occupation</th>\n",
       "      <th>User_Location</th>\n",
       "      <th>AreaCode</th>\n",
       "    </tr>\n",
       "  </thead>\n",
       "  <tbody>\n",
       "    <tr>\n",
       "      <th>0</th>\n",
       "      <td>Reading</td>\n",
       "      <td>Mukesh</td>\n",
       "      <td>Yadav</td>\n",
       "      <td>Engineer</td>\n",
       "      <td>Jaipur</td>\n",
       "      <td>303106</td>\n",
       "    </tr>\n",
       "    <tr>\n",
       "      <th>1</th>\n",
       "      <td>Study</td>\n",
       "      <td>Admin</td>\n",
       "      <td>admin</td>\n",
       "      <td>Product Ownor</td>\n",
       "      <td>Delhi</td>\n",
       "      <td>302020</td>\n",
       "    </tr>\n",
       "    <tr>\n",
       "      <th>2</th>\n",
       "      <td>playing</td>\n",
       "      <td>Raja</td>\n",
       "      <td>Sastri</td>\n",
       "      <td>Architect</td>\n",
       "      <td>Pink city</td>\n",
       "      <td>302016</td>\n",
       "    </tr>\n",
       "  </tbody>\n",
       "</table>\n",
       "</div>"
      ],
      "text/plain": [
       "  User_Hobby First_Name Last_Name Emp_Occupation User_Location AreaCode\n",
       "0    Reading     Mukesh     Yadav       Engineer        Jaipur   303106\n",
       "1      Study      Admin     admin  Product Ownor         Delhi   302020\n",
       "2    playing       Raja    Sastri      Architect     Pink city   302016"
      ]
     },
     "execution_count": 41,
     "metadata": {},
     "output_type": "execute_result"
    }
   ],
   "source": [
    "# So far we have seen that we did columns modifications now i want to update the rows of the data\n",
    "# last name Satri i want to change it to 'Agarwal'\n",
    "df"
   ]
  },
  {
   "cell_type": "code",
   "execution_count": 42,
   "metadata": {},
   "outputs": [
    {
     "data": {
      "text/plain": [
       "User_Hobby          playing\n",
       "First_Name             Raja\n",
       "Last_Name            Sastri\n",
       "Emp_Occupation    Architect\n",
       "User_Location     Pink city\n",
       "AreaCode             302016\n",
       "Name: 2, dtype: object"
      ]
     },
     "execution_count": 42,
     "metadata": {},
     "output_type": "execute_result"
    }
   ],
   "source": [
    "df.loc[2]"
   ]
  },
  {
   "cell_type": "code",
   "execution_count": 43,
   "metadata": {},
   "outputs": [
    {
     "data": {
      "text/html": [
       "<div>\n",
       "<style scoped>\n",
       "    .dataframe tbody tr th:only-of-type {\n",
       "        vertical-align: middle;\n",
       "    }\n",
       "\n",
       "    .dataframe tbody tr th {\n",
       "        vertical-align: top;\n",
       "    }\n",
       "\n",
       "    .dataframe thead th {\n",
       "        text-align: right;\n",
       "    }\n",
       "</style>\n",
       "<table border=\"1\" class=\"dataframe\">\n",
       "  <thead>\n",
       "    <tr style=\"text-align: right;\">\n",
       "      <th></th>\n",
       "      <th>User_Hobby</th>\n",
       "      <th>First_Name</th>\n",
       "      <th>Last_Name</th>\n",
       "      <th>Emp_Occupation</th>\n",
       "      <th>User_Location</th>\n",
       "      <th>AreaCode</th>\n",
       "    </tr>\n",
       "  </thead>\n",
       "  <tbody>\n",
       "    <tr>\n",
       "      <th>0</th>\n",
       "      <td>Reading</td>\n",
       "      <td>Mukesh</td>\n",
       "      <td>Yadav</td>\n",
       "      <td>Engineer</td>\n",
       "      <td>Jaipur</td>\n",
       "      <td>303106</td>\n",
       "    </tr>\n",
       "    <tr>\n",
       "      <th>1</th>\n",
       "      <td>Study</td>\n",
       "      <td>Admin</td>\n",
       "      <td>admin</td>\n",
       "      <td>Product Ownor</td>\n",
       "      <td>Delhi</td>\n",
       "      <td>302020</td>\n",
       "    </tr>\n",
       "    <tr>\n",
       "      <th>2</th>\n",
       "      <td>Playing</td>\n",
       "      <td>Ashish Raja</td>\n",
       "      <td>Agarwal</td>\n",
       "      <td>Developer</td>\n",
       "      <td>Sastri Nagar</td>\n",
       "      <td>302016</td>\n",
       "    </tr>\n",
       "  </tbody>\n",
       "</table>\n",
       "</div>"
      ],
      "text/plain": [
       "  User_Hobby   First_Name Last_Name Emp_Occupation User_Location AreaCode\n",
       "0    Reading       Mukesh     Yadav       Engineer        Jaipur   303106\n",
       "1      Study        Admin     admin  Product Ownor         Delhi   302020\n",
       "2    Playing  Ashish Raja   Agarwal      Developer  Sastri Nagar   302016"
      ]
     },
     "execution_count": 43,
     "metadata": {},
     "output_type": "execute_result"
    }
   ],
   "source": [
    "# so i can use many approaches - let's use list\n",
    "\n",
    "df.loc[2] = ['Playing', 'Ashish Raja', 'Agarwal', 'Developer', 'Sastri Nagar','302016']\n",
    "\n",
    "df"
   ]
  },
  {
   "cell_type": "code",
   "execution_count": null,
   "metadata": {},
   "outputs": [],
   "source": []
  },
  {
   "cell_type": "code",
   "execution_count": 44,
   "metadata": {},
   "outputs": [
    {
     "data": {
      "text/html": [
       "<div>\n",
       "<style scoped>\n",
       "    .dataframe tbody tr th:only-of-type {\n",
       "        vertical-align: middle;\n",
       "    }\n",
       "\n",
       "    .dataframe tbody tr th {\n",
       "        vertical-align: top;\n",
       "    }\n",
       "\n",
       "    .dataframe thead th {\n",
       "        text-align: right;\n",
       "    }\n",
       "</style>\n",
       "<table border=\"1\" class=\"dataframe\">\n",
       "  <thead>\n",
       "    <tr style=\"text-align: right;\">\n",
       "      <th></th>\n",
       "      <th>User_Hobby</th>\n",
       "      <th>First_Name</th>\n",
       "      <th>Last_Name</th>\n",
       "      <th>Emp_Occupation</th>\n",
       "      <th>User_Location</th>\n",
       "      <th>AreaCode</th>\n",
       "    </tr>\n",
       "  </thead>\n",
       "  <tbody>\n",
       "    <tr>\n",
       "      <th>0</th>\n",
       "      <td>Reading</td>\n",
       "      <td>Mukesh</td>\n",
       "      <td>Yadav</td>\n",
       "      <td>Engineer</td>\n",
       "      <td>Jaipur</td>\n",
       "      <td>303106</td>\n",
       "    </tr>\n",
       "    <tr>\n",
       "      <th>1</th>\n",
       "      <td>Study</td>\n",
       "      <td>Admin</td>\n",
       "      <td>admin</td>\n",
       "      <td>Product Ownor</td>\n",
       "      <td>Delhi</td>\n",
       "      <td>302020</td>\n",
       "    </tr>\n",
       "    <tr>\n",
       "      <th>2</th>\n",
       "      <td>Playing</td>\n",
       "      <td>RAJA</td>\n",
       "      <td>Admin</td>\n",
       "      <td>Developer</td>\n",
       "      <td>Sastri Nagar</td>\n",
       "      <td>302016</td>\n",
       "    </tr>\n",
       "  </tbody>\n",
       "</table>\n",
       "</div>"
      ],
      "text/plain": [
       "  User_Hobby First_Name Last_Name Emp_Occupation User_Location AreaCode\n",
       "0    Reading     Mukesh     Yadav       Engineer        Jaipur   303106\n",
       "1      Study      Admin     admin  Product Ownor         Delhi   302020\n",
       "2    Playing       RAJA     Admin      Developer  Sastri Nagar   302016"
      ]
     },
     "execution_count": 44,
     "metadata": {},
     "output_type": "execute_result"
    }
   ],
   "source": [
    "# So by using above approach we can change the columns but what if we have lots of columns and there we want to change only any specific column\n",
    "\n",
    "# Here 2 is the row num (Index) and next is columns name\n",
    "\n",
    "df.loc[2, ['First_Name', 'Last_Name']] = ['RAJA', 'Admin']\n",
    "df"
   ]
  },
  {
   "cell_type": "code",
   "execution_count": 45,
   "metadata": {},
   "outputs": [
    {
     "data": {
      "text/html": [
       "<div>\n",
       "<style scoped>\n",
       "    .dataframe tbody tr th:only-of-type {\n",
       "        vertical-align: middle;\n",
       "    }\n",
       "\n",
       "    .dataframe tbody tr th {\n",
       "        vertical-align: top;\n",
       "    }\n",
       "\n",
       "    .dataframe thead th {\n",
       "        text-align: right;\n",
       "    }\n",
       "</style>\n",
       "<table border=\"1\" class=\"dataframe\">\n",
       "  <thead>\n",
       "    <tr style=\"text-align: right;\">\n",
       "      <th></th>\n",
       "      <th>User_Hobby</th>\n",
       "      <th>First_Name</th>\n",
       "      <th>Last_Name</th>\n",
       "      <th>Emp_Occupation</th>\n",
       "      <th>User_Location</th>\n",
       "      <th>AreaCode</th>\n",
       "    </tr>\n",
       "  </thead>\n",
       "  <tbody>\n",
       "    <tr>\n",
       "      <th>0</th>\n",
       "      <td>Reading</td>\n",
       "      <td>Mukesh</td>\n",
       "      <td>Yadav</td>\n",
       "      <td>Engineer</td>\n",
       "      <td>Jaipur</td>\n",
       "      <td>303106</td>\n",
       "    </tr>\n",
       "    <tr>\n",
       "      <th>1</th>\n",
       "      <td>Study</td>\n",
       "      <td>Admin</td>\n",
       "      <td>admin</td>\n",
       "      <td>Product Ownor</td>\n",
       "      <td>Delhi</td>\n",
       "      <td>302020</td>\n",
       "    </tr>\n",
       "    <tr>\n",
       "      <th>2</th>\n",
       "      <td>Playing</td>\n",
       "      <td>RAJA</td>\n",
       "      <td>ADMIN</td>\n",
       "      <td>Developer</td>\n",
       "      <td>Sastri Nagar</td>\n",
       "      <td>302016</td>\n",
       "    </tr>\n",
       "  </tbody>\n",
       "</table>\n",
       "</div>"
      ],
      "text/plain": [
       "  User_Hobby First_Name Last_Name Emp_Occupation User_Location AreaCode\n",
       "0    Reading     Mukesh     Yadav       Engineer        Jaipur   303106\n",
       "1      Study      Admin     admin  Product Ownor         Delhi   302020\n",
       "2    Playing       RAJA    ADMIN       Developer  Sastri Nagar   302016"
      ]
     },
     "execution_count": 45,
     "metadata": {},
     "output_type": "execute_result"
    }
   ],
   "source": [
    "# instead of list I want to change the only last name alone for index 2\n",
    "\n",
    "df.loc[2, 'Last_Name'] = 'ADMIN '\n",
    "\n",
    "df\n",
    "\n",
    "# Also instead of loc I can use at, I'll recommend only loc & iloc\n",
    "#df.at[2, 'Last_Name'] = 'ADMIN1'"
   ]
  },
  {
   "cell_type": "code",
   "execution_count": null,
   "metadata": {},
   "outputs": [],
   "source": []
  },
  {
   "cell_type": "code",
   "execution_count": 46,
   "metadata": {},
   "outputs": [
    {
     "data": {
      "text/html": [
       "<div>\n",
       "<style scoped>\n",
       "    .dataframe tbody tr th:only-of-type {\n",
       "        vertical-align: middle;\n",
       "    }\n",
       "\n",
       "    .dataframe tbody tr th {\n",
       "        vertical-align: top;\n",
       "    }\n",
       "\n",
       "    .dataframe thead th {\n",
       "        text-align: right;\n",
       "    }\n",
       "</style>\n",
       "<table border=\"1\" class=\"dataframe\">\n",
       "  <thead>\n",
       "    <tr style=\"text-align: right;\">\n",
       "      <th></th>\n",
       "      <th>User_Hobby</th>\n",
       "      <th>First_Name</th>\n",
       "      <th>Last_Name</th>\n",
       "      <th>Emp_Occupation</th>\n",
       "      <th>User_Location</th>\n",
       "      <th>AreaCode</th>\n",
       "    </tr>\n",
       "  </thead>\n",
       "  <tbody>\n",
       "    <tr>\n",
       "      <th>0</th>\n",
       "      <td>Reading</td>\n",
       "      <td>Mukesh</td>\n",
       "      <td>Yadav</td>\n",
       "      <td>Engineer</td>\n",
       "      <td>Jaipur</td>\n",
       "      <td>303106</td>\n",
       "    </tr>\n",
       "    <tr>\n",
       "      <th>1</th>\n",
       "      <td>Study</td>\n",
       "      <td>Admin</td>\n",
       "      <td>admin</td>\n",
       "      <td>Product Ownor</td>\n",
       "      <td>Delhi</td>\n",
       "      <td>302020</td>\n",
       "    </tr>\n",
       "    <tr>\n",
       "      <th>2</th>\n",
       "      <td>Playing</td>\n",
       "      <td>RAJA</td>\n",
       "      <td>ADMIN</td>\n",
       "      <td>Developer</td>\n",
       "      <td>Sastri Nagar</td>\n",
       "      <td>302016</td>\n",
       "    </tr>\n",
       "  </tbody>\n",
       "</table>\n",
       "</div>"
      ],
      "text/plain": [
       "  User_Hobby First_Name Last_Name Emp_Occupation User_Location AreaCode\n",
       "0    Reading     Mukesh     Yadav       Engineer        Jaipur   303106\n",
       "1      Study      Admin     admin  Product Ownor         Delhi   302020\n",
       "2    Playing       RAJA    ADMIN       Developer  Sastri Nagar   302016"
      ]
     },
     "execution_count": 46,
     "metadata": {},
     "output_type": "execute_result"
    }
   ],
   "source": [
    "# Best approach to use filter conditions, by using below syntax it won't set the vlaues bcz pandas triying to do this operation on a view.\n",
    "\n",
    "filt = (df['Last_Name'] == 'ADMIN')\n",
    "df[filt]['Last_Name'] = 'Mukesh'\n",
    "\n",
    "df"
   ]
  },
  {
   "cell_type": "code",
   "execution_count": 47,
   "metadata": {},
   "outputs": [],
   "source": [
    "filt = (df['Last_Name'] == 'ADMIN')\n",
    "df.loc[filt, 'Last_Name'] = 'Hello'\n"
   ]
  },
  {
   "cell_type": "code",
   "execution_count": 48,
   "metadata": {},
   "outputs": [
    {
     "data": {
      "text/html": [
       "<div>\n",
       "<style scoped>\n",
       "    .dataframe tbody tr th:only-of-type {\n",
       "        vertical-align: middle;\n",
       "    }\n",
       "\n",
       "    .dataframe tbody tr th {\n",
       "        vertical-align: top;\n",
       "    }\n",
       "\n",
       "    .dataframe thead th {\n",
       "        text-align: right;\n",
       "    }\n",
       "</style>\n",
       "<table border=\"1\" class=\"dataframe\">\n",
       "  <thead>\n",
       "    <tr style=\"text-align: right;\">\n",
       "      <th></th>\n",
       "      <th>User_Hobby</th>\n",
       "      <th>First_Name</th>\n",
       "      <th>Last_Name</th>\n",
       "      <th>Emp_Occupation</th>\n",
       "      <th>User_Location</th>\n",
       "      <th>AreaCode</th>\n",
       "    </tr>\n",
       "  </thead>\n",
       "  <tbody>\n",
       "    <tr>\n",
       "      <th>0</th>\n",
       "      <td>Reading</td>\n",
       "      <td>Mukesh</td>\n",
       "      <td>Yadav</td>\n",
       "      <td>Engineer</td>\n",
       "      <td>Jaipur</td>\n",
       "      <td>303106</td>\n",
       "    </tr>\n",
       "    <tr>\n",
       "      <th>1</th>\n",
       "      <td>Study</td>\n",
       "      <td>Admin</td>\n",
       "      <td>admin</td>\n",
       "      <td>Product Ownor</td>\n",
       "      <td>Delhi</td>\n",
       "      <td>302020</td>\n",
       "    </tr>\n",
       "    <tr>\n",
       "      <th>2</th>\n",
       "      <td>Playing</td>\n",
       "      <td>RAJA</td>\n",
       "      <td>ADMIN</td>\n",
       "      <td>Developer</td>\n",
       "      <td>Sastri Nagar</td>\n",
       "      <td>302016</td>\n",
       "    </tr>\n",
       "  </tbody>\n",
       "</table>\n",
       "</div>"
      ],
      "text/plain": [
       "  User_Hobby First_Name Last_Name Emp_Occupation User_Location AreaCode\n",
       "0    Reading     Mukesh     Yadav       Engineer        Jaipur   303106\n",
       "1      Study      Admin     admin  Product Ownor         Delhi   302020\n",
       "2    Playing       RAJA    ADMIN       Developer  Sastri Nagar   302016"
      ]
     },
     "execution_count": 48,
     "metadata": {},
     "output_type": "execute_result"
    }
   ],
   "source": [
    "df"
   ]
  },
  {
   "cell_type": "code",
   "execution_count": null,
   "metadata": {},
   "outputs": [],
   "source": []
  },
  {
   "cell_type": "code",
   "execution_count": 49,
   "metadata": {},
   "outputs": [
    {
     "data": {
      "text/html": [
       "<div>\n",
       "<style scoped>\n",
       "    .dataframe tbody tr th:only-of-type {\n",
       "        vertical-align: middle;\n",
       "    }\n",
       "\n",
       "    .dataframe tbody tr th {\n",
       "        vertical-align: top;\n",
       "    }\n",
       "\n",
       "    .dataframe thead th {\n",
       "        text-align: right;\n",
       "    }\n",
       "</style>\n",
       "<table border=\"1\" class=\"dataframe\">\n",
       "  <thead>\n",
       "    <tr style=\"text-align: right;\">\n",
       "      <th></th>\n",
       "      <th>User_Hobby</th>\n",
       "      <th>First_Name</th>\n",
       "      <th>Last_Name</th>\n",
       "      <th>Emp_Occupation</th>\n",
       "      <th>User_Location</th>\n",
       "      <th>AreaCode</th>\n",
       "    </tr>\n",
       "  </thead>\n",
       "  <tbody>\n",
       "    <tr>\n",
       "      <th>0</th>\n",
       "      <td>Reading</td>\n",
       "      <td>Mukesh</td>\n",
       "      <td>Yadav</td>\n",
       "      <td>Engineer</td>\n",
       "      <td>jaipur</td>\n",
       "      <td>303106</td>\n",
       "    </tr>\n",
       "    <tr>\n",
       "      <th>1</th>\n",
       "      <td>Study</td>\n",
       "      <td>Admin</td>\n",
       "      <td>admin</td>\n",
       "      <td>Product Ownor</td>\n",
       "      <td>delhi</td>\n",
       "      <td>302020</td>\n",
       "    </tr>\n",
       "    <tr>\n",
       "      <th>2</th>\n",
       "      <td>Playing</td>\n",
       "      <td>RAJA</td>\n",
       "      <td>ADMIN</td>\n",
       "      <td>Developer</td>\n",
       "      <td>sastri nagar</td>\n",
       "      <td>302016</td>\n",
       "    </tr>\n",
       "  </tbody>\n",
       "</table>\n",
       "</div>"
      ],
      "text/plain": [
       "  User_Hobby First_Name Last_Name Emp_Occupation User_Location AreaCode\n",
       "0    Reading     Mukesh     Yadav       Engineer        jaipur   303106\n",
       "1      Study      Admin     admin  Product Ownor         delhi   302020\n",
       "2    Playing       RAJA    ADMIN       Developer  sastri nagar   302016"
      ]
     },
     "execution_count": 49,
     "metadata": {},
     "output_type": "execute_result"
    }
   ],
   "source": [
    "# I want to change all the upper case to lower case \n",
    "\n",
    "df['User_Location'] = df['User_Location'].str.lower()\n",
    "df"
   ]
  },
  {
   "cell_type": "code",
   "execution_count": 50,
   "metadata": {},
   "outputs": [
    {
     "data": {
      "text/plain": [
       "0    6\n",
       "1    5\n",
       "2    4\n",
       "Name: First_Name, dtype: int64"
      ]
     },
     "execution_count": 50,
     "metadata": {},
     "output_type": "execute_result"
    }
   ],
   "source": [
    "# so instead of doing above apprach we can use some advanced approaches - \n",
    "#apply\n",
    "#map\n",
    "#applymap\n",
    "#replace\n",
    "\n",
    "# uses of apply()\n",
    "\n",
    "df['First_Name'].apply(len)\n",
    "\n",
    "\n",
    "# so here on we can use apply in differnet ways like using function"
   ]
  },
  {
   "cell_type": "code",
   "execution_count": 51,
   "metadata": {},
   "outputs": [
    {
     "data": {
      "text/plain": [
       "0    MUKESH\n",
       "1     ADMIN\n",
       "2      RAJA\n",
       "Name: First_Name, dtype: object"
      ]
     },
     "execution_count": 51,
     "metadata": {},
     "output_type": "execute_result"
    }
   ],
   "source": [
    "def update_FirstName(First_Name):\n",
    "    return First_Name.upper()\n",
    "\n",
    "df['First_Name'].apply(update_FirstName)"
   ]
  },
  {
   "cell_type": "code",
   "execution_count": 52,
   "metadata": {},
   "outputs": [
    {
     "data": {
      "text/html": [
       "<div>\n",
       "<style scoped>\n",
       "    .dataframe tbody tr th:only-of-type {\n",
       "        vertical-align: middle;\n",
       "    }\n",
       "\n",
       "    .dataframe tbody tr th {\n",
       "        vertical-align: top;\n",
       "    }\n",
       "\n",
       "    .dataframe thead th {\n",
       "        text-align: right;\n",
       "    }\n",
       "</style>\n",
       "<table border=\"1\" class=\"dataframe\">\n",
       "  <thead>\n",
       "    <tr style=\"text-align: right;\">\n",
       "      <th></th>\n",
       "      <th>User_Hobby</th>\n",
       "      <th>First_Name</th>\n",
       "      <th>Last_Name</th>\n",
       "      <th>Emp_Occupation</th>\n",
       "      <th>User_Location</th>\n",
       "      <th>AreaCode</th>\n",
       "    </tr>\n",
       "  </thead>\n",
       "  <tbody>\n",
       "    <tr>\n",
       "      <th>0</th>\n",
       "      <td>Reading</td>\n",
       "      <td>Mukesh</td>\n",
       "      <td>Yadav</td>\n",
       "      <td>Engineer</td>\n",
       "      <td>jaipur</td>\n",
       "      <td>303106</td>\n",
       "    </tr>\n",
       "    <tr>\n",
       "      <th>1</th>\n",
       "      <td>Study</td>\n",
       "      <td>Admin</td>\n",
       "      <td>admin</td>\n",
       "      <td>Product Ownor</td>\n",
       "      <td>delhi</td>\n",
       "      <td>302020</td>\n",
       "    </tr>\n",
       "    <tr>\n",
       "      <th>2</th>\n",
       "      <td>Playing</td>\n",
       "      <td>RAJA</td>\n",
       "      <td>ADMIN</td>\n",
       "      <td>Developer</td>\n",
       "      <td>sastri nagar</td>\n",
       "      <td>302016</td>\n",
       "    </tr>\n",
       "  </tbody>\n",
       "</table>\n",
       "</div>"
      ],
      "text/plain": [
       "  User_Hobby First_Name Last_Name Emp_Occupation User_Location AreaCode\n",
       "0    Reading     Mukesh     Yadav       Engineer        jaipur   303106\n",
       "1      Study      Admin     admin  Product Ownor         delhi   302020\n",
       "2    Playing       RAJA    ADMIN       Developer  sastri nagar   302016"
      ]
     },
     "execution_count": 52,
     "metadata": {},
     "output_type": "execute_result"
    }
   ],
   "source": [
    "\n",
    "# But this won't assign these changes to our data frame, so i have to assign it back.\n",
    "df"
   ]
  },
  {
   "cell_type": "code",
   "execution_count": 53,
   "metadata": {},
   "outputs": [
    {
     "data": {
      "text/html": [
       "<div>\n",
       "<style scoped>\n",
       "    .dataframe tbody tr th:only-of-type {\n",
       "        vertical-align: middle;\n",
       "    }\n",
       "\n",
       "    .dataframe tbody tr th {\n",
       "        vertical-align: top;\n",
       "    }\n",
       "\n",
       "    .dataframe thead th {\n",
       "        text-align: right;\n",
       "    }\n",
       "</style>\n",
       "<table border=\"1\" class=\"dataframe\">\n",
       "  <thead>\n",
       "    <tr style=\"text-align: right;\">\n",
       "      <th></th>\n",
       "      <th>User_Hobby</th>\n",
       "      <th>First_Name</th>\n",
       "      <th>Last_Name</th>\n",
       "      <th>Emp_Occupation</th>\n",
       "      <th>User_Location</th>\n",
       "      <th>AreaCode</th>\n",
       "    </tr>\n",
       "  </thead>\n",
       "  <tbody>\n",
       "    <tr>\n",
       "      <th>0</th>\n",
       "      <td>Reading</td>\n",
       "      <td>MUKESH</td>\n",
       "      <td>Yadav</td>\n",
       "      <td>Engineer</td>\n",
       "      <td>jaipur</td>\n",
       "      <td>303106</td>\n",
       "    </tr>\n",
       "    <tr>\n",
       "      <th>1</th>\n",
       "      <td>Study</td>\n",
       "      <td>ADMIN</td>\n",
       "      <td>admin</td>\n",
       "      <td>Product Ownor</td>\n",
       "      <td>delhi</td>\n",
       "      <td>302020</td>\n",
       "    </tr>\n",
       "    <tr>\n",
       "      <th>2</th>\n",
       "      <td>Playing</td>\n",
       "      <td>RAJA</td>\n",
       "      <td>ADMIN</td>\n",
       "      <td>Developer</td>\n",
       "      <td>sastri nagar</td>\n",
       "      <td>302016</td>\n",
       "    </tr>\n",
       "  </tbody>\n",
       "</table>\n",
       "</div>"
      ],
      "text/plain": [
       "  User_Hobby First_Name Last_Name Emp_Occupation User_Location AreaCode\n",
       "0    Reading     MUKESH     Yadav       Engineer        jaipur   303106\n",
       "1      Study      ADMIN     admin  Product Ownor         delhi   302020\n",
       "2    Playing       RAJA    ADMIN       Developer  sastri nagar   302016"
      ]
     },
     "execution_count": 53,
     "metadata": {},
     "output_type": "execute_result"
    }
   ],
   "source": [
    "df['First_Name'] = df['First_Name'].apply(update_FirstName)\n",
    "df"
   ]
  },
  {
   "cell_type": "code",
   "execution_count": 54,
   "metadata": {},
   "outputs": [
    {
     "data": {
      "text/html": [
       "<div>\n",
       "<style scoped>\n",
       "    .dataframe tbody tr th:only-of-type {\n",
       "        vertical-align: middle;\n",
       "    }\n",
       "\n",
       "    .dataframe tbody tr th {\n",
       "        vertical-align: top;\n",
       "    }\n",
       "\n",
       "    .dataframe thead th {\n",
       "        text-align: right;\n",
       "    }\n",
       "</style>\n",
       "<table border=\"1\" class=\"dataframe\">\n",
       "  <thead>\n",
       "    <tr style=\"text-align: right;\">\n",
       "      <th></th>\n",
       "      <th>User_Hobby</th>\n",
       "      <th>First_Name</th>\n",
       "      <th>Last_Name</th>\n",
       "      <th>Emp_Occupation</th>\n",
       "      <th>User_Location</th>\n",
       "      <th>AreaCode</th>\n",
       "    </tr>\n",
       "  </thead>\n",
       "  <tbody>\n",
       "    <tr>\n",
       "      <th>0</th>\n",
       "      <td>Reading</td>\n",
       "      <td>mukesh</td>\n",
       "      <td>Yadav</td>\n",
       "      <td>Engineer</td>\n",
       "      <td>jaipur</td>\n",
       "      <td>303106</td>\n",
       "    </tr>\n",
       "    <tr>\n",
       "      <th>1</th>\n",
       "      <td>Study</td>\n",
       "      <td>admin</td>\n",
       "      <td>admin</td>\n",
       "      <td>Product Ownor</td>\n",
       "      <td>delhi</td>\n",
       "      <td>302020</td>\n",
       "    </tr>\n",
       "    <tr>\n",
       "      <th>2</th>\n",
       "      <td>Playing</td>\n",
       "      <td>raja</td>\n",
       "      <td>ADMIN</td>\n",
       "      <td>Developer</td>\n",
       "      <td>sastri nagar</td>\n",
       "      <td>302016</td>\n",
       "    </tr>\n",
       "  </tbody>\n",
       "</table>\n",
       "</div>"
      ],
      "text/plain": [
       "  User_Hobby First_Name Last_Name Emp_Occupation User_Location AreaCode\n",
       "0    Reading     mukesh     Yadav       Engineer        jaipur   303106\n",
       "1      Study      admin     admin  Product Ownor         delhi   302020\n",
       "2    Playing       raja    ADMIN       Developer  sastri nagar   302016"
      ]
     },
     "execution_count": 54,
     "metadata": {},
     "output_type": "execute_result"
    }
   ],
   "source": [
    "# I can use lambda functiton as well \n",
    "\n",
    "df['First_Name'] = df['First_Name'].apply(lambda x: x.lower())\n",
    "df"
   ]
  },
  {
   "cell_type": "code",
   "execution_count": 55,
   "metadata": {},
   "outputs": [],
   "source": [
    "# Want to get the minimum value from the column"
   ]
  },
  {
   "cell_type": "code",
   "execution_count": 56,
   "metadata": {},
   "outputs": [
    {
     "data": {
      "text/plain": [
       "User_Hobby          Playing\n",
       "First_Name            admin\n",
       "Last_Name            ADMIN \n",
       "Emp_Occupation    Developer\n",
       "User_Location         delhi\n",
       "AreaCode             302016\n",
       "dtype: object"
      ]
     },
     "execution_count": 56,
     "metadata": {},
     "output_type": "execute_result"
    }
   ],
   "source": [
    "df.apply(pd.Series.min)"
   ]
  },
  {
   "cell_type": "code",
   "execution_count": 57,
   "metadata": {},
   "outputs": [
    {
     "data": {
      "text/plain": [
       "User_Hobby          Playing\n",
       "First_Name            admin\n",
       "Last_Name            ADMIN \n",
       "Emp_Occupation    Developer\n",
       "User_Location         delhi\n",
       "AreaCode             302016\n",
       "dtype: object"
      ]
     },
     "execution_count": 57,
     "metadata": {},
     "output_type": "execute_result"
    }
   ],
   "source": [
    "# Also i can use lambda function as well\n",
    "\n",
    "df.apply(lambda x: x.min())"
   ]
  },
  {
   "cell_type": "code",
   "execution_count": null,
   "metadata": {},
   "outputs": [],
   "source": []
  },
  {
   "cell_type": "code",
   "execution_count": 58,
   "metadata": {},
   "outputs": [
    {
     "data": {
      "text/html": [
       "<div>\n",
       "<style scoped>\n",
       "    .dataframe tbody tr th:only-of-type {\n",
       "        vertical-align: middle;\n",
       "    }\n",
       "\n",
       "    .dataframe tbody tr th {\n",
       "        vertical-align: top;\n",
       "    }\n",
       "\n",
       "    .dataframe thead th {\n",
       "        text-align: right;\n",
       "    }\n",
       "</style>\n",
       "<table border=\"1\" class=\"dataframe\">\n",
       "  <thead>\n",
       "    <tr style=\"text-align: right;\">\n",
       "      <th></th>\n",
       "      <th>User_Hobby</th>\n",
       "      <th>First_Name</th>\n",
       "      <th>Last_Name</th>\n",
       "      <th>Emp_Occupation</th>\n",
       "      <th>User_Location</th>\n",
       "      <th>AreaCode</th>\n",
       "    </tr>\n",
       "  </thead>\n",
       "  <tbody>\n",
       "    <tr>\n",
       "      <th>0</th>\n",
       "      <td>7</td>\n",
       "      <td>6</td>\n",
       "      <td>5</td>\n",
       "      <td>8</td>\n",
       "      <td>6</td>\n",
       "      <td>6</td>\n",
       "    </tr>\n",
       "    <tr>\n",
       "      <th>1</th>\n",
       "      <td>5</td>\n",
       "      <td>5</td>\n",
       "      <td>5</td>\n",
       "      <td>13</td>\n",
       "      <td>5</td>\n",
       "      <td>6</td>\n",
       "    </tr>\n",
       "    <tr>\n",
       "      <th>2</th>\n",
       "      <td>7</td>\n",
       "      <td>4</td>\n",
       "      <td>6</td>\n",
       "      <td>9</td>\n",
       "      <td>12</td>\n",
       "      <td>6</td>\n",
       "    </tr>\n",
       "  </tbody>\n",
       "</table>\n",
       "</div>"
      ],
      "text/plain": [
       "   User_Hobby  First_Name  Last_Name  Emp_Occupation  User_Location  AreaCode\n",
       "0           7           6          5               8              6         6\n",
       "1           5           5          5              13              5         6\n",
       "2           7           4          6               9             12         6"
      ]
     },
     "execution_count": 58,
     "metadata": {},
     "output_type": "execute_result"
    }
   ],
   "source": [
    "#2 . applymap uses -> apply a function to every individual element in dataframe , applymap only works on the data frmes\n",
    "\n",
    "df.applymap(len)"
   ]
  },
  {
   "cell_type": "code",
   "execution_count": 59,
   "metadata": {},
   "outputs": [
    {
     "data": {
      "text/html": [
       "<div>\n",
       "<style scoped>\n",
       "    .dataframe tbody tr th:only-of-type {\n",
       "        vertical-align: middle;\n",
       "    }\n",
       "\n",
       "    .dataframe tbody tr th {\n",
       "        vertical-align: top;\n",
       "    }\n",
       "\n",
       "    .dataframe thead th {\n",
       "        text-align: right;\n",
       "    }\n",
       "</style>\n",
       "<table border=\"1\" class=\"dataframe\">\n",
       "  <thead>\n",
       "    <tr style=\"text-align: right;\">\n",
       "      <th></th>\n",
       "      <th>User_Hobby</th>\n",
       "      <th>First_Name</th>\n",
       "      <th>Last_Name</th>\n",
       "      <th>Emp_Occupation</th>\n",
       "      <th>User_Location</th>\n",
       "      <th>AreaCode</th>\n",
       "    </tr>\n",
       "  </thead>\n",
       "  <tbody>\n",
       "    <tr>\n",
       "      <th>0</th>\n",
       "      <td>reading</td>\n",
       "      <td>mukesh</td>\n",
       "      <td>yadav</td>\n",
       "      <td>engineer</td>\n",
       "      <td>jaipur</td>\n",
       "      <td>303106</td>\n",
       "    </tr>\n",
       "    <tr>\n",
       "      <th>1</th>\n",
       "      <td>study</td>\n",
       "      <td>admin</td>\n",
       "      <td>admin</td>\n",
       "      <td>product ownor</td>\n",
       "      <td>delhi</td>\n",
       "      <td>302020</td>\n",
       "    </tr>\n",
       "    <tr>\n",
       "      <th>2</th>\n",
       "      <td>playing</td>\n",
       "      <td>raja</td>\n",
       "      <td>admin</td>\n",
       "      <td>developer</td>\n",
       "      <td>sastri nagar</td>\n",
       "      <td>302016</td>\n",
       "    </tr>\n",
       "  </tbody>\n",
       "</table>\n",
       "</div>"
      ],
      "text/plain": [
       "  User_Hobby First_Name Last_Name Emp_Occupation User_Location AreaCode\n",
       "0    reading     mukesh     yadav       engineer        jaipur   303106\n",
       "1      study      admin     admin  product ownor         delhi   302020\n",
       "2    playing       raja    admin       developer  sastri nagar   302016"
      ]
     },
     "execution_count": 59,
     "metadata": {},
     "output_type": "execute_result"
    }
   ],
   "source": [
    "# so if i want to do all the strings in lower case -\n",
    "\n",
    "df.applymap(str.lower)"
   ]
  },
  {
   "cell_type": "code",
   "execution_count": null,
   "metadata": {},
   "outputs": [],
   "source": []
  },
  {
   "cell_type": "code",
   "execution_count": 60,
   "metadata": {},
   "outputs": [
    {
     "data": {
      "text/plain": [
       "0    Moni\n",
       "1     Joe\n",
       "2     NaN\n",
       "Name: First_Name, dtype: object"
      ]
     },
     "execution_count": 60,
     "metadata": {},
     "output_type": "execute_result"
    }
   ],
   "source": [
    "#3 , map works only on a series object, it substutes the values \n",
    "\n",
    "df['First_Name'].map({\n",
    "    'mukesh' :'Moni',\n",
    "    'admin': 'Joe'\n",
    "    \n",
    "})"
   ]
  },
  {
   "cell_type": "code",
   "execution_count": 61,
   "metadata": {},
   "outputs": [],
   "source": [
    "# in the above approach i can see that 2nd index is showing Nan , bcz i just apply map on mukesh and admin, so to overcome this we can use repalce()"
   ]
  },
  {
   "cell_type": "code",
   "execution_count": null,
   "metadata": {},
   "outputs": [],
   "source": []
  },
  {
   "cell_type": "code",
   "execution_count": 62,
   "metadata": {},
   "outputs": [
    {
     "data": {
      "text/html": [
       "<div>\n",
       "<style scoped>\n",
       "    .dataframe tbody tr th:only-of-type {\n",
       "        vertical-align: middle;\n",
       "    }\n",
       "\n",
       "    .dataframe tbody tr th {\n",
       "        vertical-align: top;\n",
       "    }\n",
       "\n",
       "    .dataframe thead th {\n",
       "        text-align: right;\n",
       "    }\n",
       "</style>\n",
       "<table border=\"1\" class=\"dataframe\">\n",
       "  <thead>\n",
       "    <tr style=\"text-align: right;\">\n",
       "      <th></th>\n",
       "      <th>User_Hobby</th>\n",
       "      <th>First_Name</th>\n",
       "      <th>Last_Name</th>\n",
       "      <th>Emp_Occupation</th>\n",
       "      <th>User_Location</th>\n",
       "      <th>AreaCode</th>\n",
       "    </tr>\n",
       "  </thead>\n",
       "  <tbody>\n",
       "    <tr>\n",
       "      <th>0</th>\n",
       "      <td>Reading</td>\n",
       "      <td>Moni</td>\n",
       "      <td>Yadav</td>\n",
       "      <td>Engineer</td>\n",
       "      <td>jaipur</td>\n",
       "      <td>303106</td>\n",
       "    </tr>\n",
       "    <tr>\n",
       "      <th>1</th>\n",
       "      <td>Study</td>\n",
       "      <td>Joe</td>\n",
       "      <td>admin</td>\n",
       "      <td>Product Ownor</td>\n",
       "      <td>delhi</td>\n",
       "      <td>302020</td>\n",
       "    </tr>\n",
       "    <tr>\n",
       "      <th>2</th>\n",
       "      <td>Playing</td>\n",
       "      <td>raja</td>\n",
       "      <td>ADMIN</td>\n",
       "      <td>Developer</td>\n",
       "      <td>sastri nagar</td>\n",
       "      <td>302016</td>\n",
       "    </tr>\n",
       "  </tbody>\n",
       "</table>\n",
       "</div>"
      ],
      "text/plain": [
       "  User_Hobby First_Name Last_Name Emp_Occupation User_Location AreaCode\n",
       "0    Reading       Moni     Yadav       Engineer        jaipur   303106\n",
       "1      Study        Joe     admin  Product Ownor         delhi   302020\n",
       "2    Playing       raja    ADMIN       Developer  sastri nagar   302016"
      ]
     },
     "execution_count": 62,
     "metadata": {},
     "output_type": "execute_result"
    }
   ],
   "source": [
    "#4 replace()\n",
    "\n",
    "df['First_Name'] = df['First_Name'].replace({\n",
    "    'mukesh' :'Moni',\n",
    "    'admin': 'Joe'\n",
    "    \n",
    "})\n",
    "\n",
    "df"
   ]
  },
  {
   "cell_type": "code",
   "execution_count": null,
   "metadata": {},
   "outputs": [],
   "source": []
  },
  {
   "cell_type": "markdown",
   "metadata": {},
   "source": [
    "### Add Remove Columns \n",
    "  - add and remove columns from the data frames"
   ]
  },
  {
   "cell_type": "code",
   "execution_count": 63,
   "metadata": {},
   "outputs": [
    {
     "data": {
      "text/html": [
       "<div>\n",
       "<style scoped>\n",
       "    .dataframe tbody tr th:only-of-type {\n",
       "        vertical-align: middle;\n",
       "    }\n",
       "\n",
       "    .dataframe tbody tr th {\n",
       "        vertical-align: top;\n",
       "    }\n",
       "\n",
       "    .dataframe thead th {\n",
       "        text-align: right;\n",
       "    }\n",
       "</style>\n",
       "<table border=\"1\" class=\"dataframe\">\n",
       "  <thead>\n",
       "    <tr style=\"text-align: right;\">\n",
       "      <th></th>\n",
       "      <th>User_Hobby</th>\n",
       "      <th>First_Name</th>\n",
       "      <th>Last_Name</th>\n",
       "      <th>Emp_Occupation</th>\n",
       "      <th>User_Location</th>\n",
       "      <th>AreaCode</th>\n",
       "      <th>full_name</th>\n",
       "    </tr>\n",
       "  </thead>\n",
       "  <tbody>\n",
       "    <tr>\n",
       "      <th>0</th>\n",
       "      <td>Reading</td>\n",
       "      <td>Moni</td>\n",
       "      <td>Yadav</td>\n",
       "      <td>Engineer</td>\n",
       "      <td>jaipur</td>\n",
       "      <td>303106</td>\n",
       "      <td>Moni Yadav</td>\n",
       "    </tr>\n",
       "    <tr>\n",
       "      <th>1</th>\n",
       "      <td>Study</td>\n",
       "      <td>Joe</td>\n",
       "      <td>admin</td>\n",
       "      <td>Product Ownor</td>\n",
       "      <td>delhi</td>\n",
       "      <td>302020</td>\n",
       "      <td>Joe admin</td>\n",
       "    </tr>\n",
       "    <tr>\n",
       "      <th>2</th>\n",
       "      <td>Playing</td>\n",
       "      <td>raja</td>\n",
       "      <td>ADMIN</td>\n",
       "      <td>Developer</td>\n",
       "      <td>sastri nagar</td>\n",
       "      <td>302016</td>\n",
       "      <td>raja ADMIN</td>\n",
       "    </tr>\n",
       "  </tbody>\n",
       "</table>\n",
       "</div>"
      ],
      "text/plain": [
       "  User_Hobby First_Name Last_Name Emp_Occupation User_Location AreaCode  \\\n",
       "0    Reading       Moni     Yadav       Engineer        jaipur   303106   \n",
       "1      Study        Joe     admin  Product Ownor         delhi   302020   \n",
       "2    Playing       raja    ADMIN       Developer  sastri nagar   302016   \n",
       "\n",
       "     full_name  \n",
       "0   Moni Yadav  \n",
       "1    Joe admin  \n",
       "2  raja ADMIN   "
      ]
     },
     "execution_count": 63,
     "metadata": {},
     "output_type": "execute_result"
    }
   ],
   "source": [
    "# Combine columns(first_name & last_name) into single\n",
    "\n",
    "df['full_name'] = df['First_Name'] + ' '+df['Last_Name']\n",
    "\n",
    "df"
   ]
  },
  {
   "cell_type": "code",
   "execution_count": 64,
   "metadata": {},
   "outputs": [
    {
     "data": {
      "text/html": [
       "<div>\n",
       "<style scoped>\n",
       "    .dataframe tbody tr th:only-of-type {\n",
       "        vertical-align: middle;\n",
       "    }\n",
       "\n",
       "    .dataframe tbody tr th {\n",
       "        vertical-align: top;\n",
       "    }\n",
       "\n",
       "    .dataframe thead th {\n",
       "        text-align: right;\n",
       "    }\n",
       "</style>\n",
       "<table border=\"1\" class=\"dataframe\">\n",
       "  <thead>\n",
       "    <tr style=\"text-align: right;\">\n",
       "      <th></th>\n",
       "      <th>User_Hobby</th>\n",
       "      <th>First_Name</th>\n",
       "      <th>Last_Name</th>\n",
       "      <th>Emp_Occupation</th>\n",
       "      <th>User_Location</th>\n",
       "      <th>AreaCode</th>\n",
       "    </tr>\n",
       "  </thead>\n",
       "  <tbody>\n",
       "    <tr>\n",
       "      <th>0</th>\n",
       "      <td>Reading</td>\n",
       "      <td>Moni</td>\n",
       "      <td>Yadav</td>\n",
       "      <td>Engineer</td>\n",
       "      <td>jaipur</td>\n",
       "      <td>303106</td>\n",
       "    </tr>\n",
       "    <tr>\n",
       "      <th>1</th>\n",
       "      <td>Study</td>\n",
       "      <td>Joe</td>\n",
       "      <td>admin</td>\n",
       "      <td>Product Ownor</td>\n",
       "      <td>delhi</td>\n",
       "      <td>302020</td>\n",
       "    </tr>\n",
       "    <tr>\n",
       "      <th>2</th>\n",
       "      <td>Playing</td>\n",
       "      <td>raja</td>\n",
       "      <td>ADMIN</td>\n",
       "      <td>Developer</td>\n",
       "      <td>sastri nagar</td>\n",
       "      <td>302016</td>\n",
       "    </tr>\n",
       "  </tbody>\n",
       "</table>\n",
       "</div>"
      ],
      "text/plain": [
       "  User_Hobby First_Name Last_Name Emp_Occupation User_Location AreaCode\n",
       "0    Reading       Moni     Yadav       Engineer        jaipur   303106\n",
       "1      Study        Joe     admin  Product Ownor         delhi   302020\n",
       "2    Playing       raja    ADMIN       Developer  sastri nagar   302016"
      ]
     },
     "execution_count": 64,
     "metadata": {},
     "output_type": "execute_result"
    }
   ],
   "source": [
    "# If you want to delete columns from df, i can pass list of columns \n",
    "\n",
    "df.drop(columns=['full_name'], inplace=True)\n",
    "df"
   ]
  },
  {
   "cell_type": "code",
   "execution_count": null,
   "metadata": {},
   "outputs": [],
   "source": []
  },
  {
   "cell_type": "code",
   "execution_count": 65,
   "metadata": {},
   "outputs": [
    {
     "data": {
      "text/html": [
       "<div>\n",
       "<style scoped>\n",
       "    .dataframe tbody tr th:only-of-type {\n",
       "        vertical-align: middle;\n",
       "    }\n",
       "\n",
       "    .dataframe tbody tr th {\n",
       "        vertical-align: top;\n",
       "    }\n",
       "\n",
       "    .dataframe thead th {\n",
       "        text-align: right;\n",
       "    }\n",
       "</style>\n",
       "<table border=\"1\" class=\"dataframe\">\n",
       "  <thead>\n",
       "    <tr style=\"text-align: right;\">\n",
       "      <th></th>\n",
       "      <th>User_Hobby</th>\n",
       "      <th>First_Name</th>\n",
       "      <th>Last_Name</th>\n",
       "      <th>Emp_Occupation</th>\n",
       "      <th>User_Location</th>\n",
       "      <th>AreaCode</th>\n",
       "      <th>Full_col</th>\n",
       "    </tr>\n",
       "  </thead>\n",
       "  <tbody>\n",
       "    <tr>\n",
       "      <th>0</th>\n",
       "      <td>Reading</td>\n",
       "      <td>Moni</td>\n",
       "      <td>Yadav</td>\n",
       "      <td>Engineer</td>\n",
       "      <td>jaipur</td>\n",
       "      <td>303106</td>\n",
       "      <td>Moni Last_Name</td>\n",
       "    </tr>\n",
       "    <tr>\n",
       "      <th>1</th>\n",
       "      <td>Study</td>\n",
       "      <td>Joe</td>\n",
       "      <td>admin</td>\n",
       "      <td>Product Ownor</td>\n",
       "      <td>delhi</td>\n",
       "      <td>302020</td>\n",
       "      <td>Joe Last_Name</td>\n",
       "    </tr>\n",
       "    <tr>\n",
       "      <th>2</th>\n",
       "      <td>Playing</td>\n",
       "      <td>raja</td>\n",
       "      <td>ADMIN</td>\n",
       "      <td>Developer</td>\n",
       "      <td>sastri nagar</td>\n",
       "      <td>302016</td>\n",
       "      <td>raja Last_Name</td>\n",
       "    </tr>\n",
       "  </tbody>\n",
       "</table>\n",
       "</div>"
      ],
      "text/plain": [
       "  User_Hobby First_Name Last_Name Emp_Occupation User_Location AreaCode  \\\n",
       "0    Reading       Moni     Yadav       Engineer        jaipur   303106   \n",
       "1      Study        Joe     admin  Product Ownor         delhi   302020   \n",
       "2    Playing       raja    ADMIN       Developer  sastri nagar   302016   \n",
       "\n",
       "         Full_col  \n",
       "0  Moni Last_Name  \n",
       "1   Joe Last_Name  \n",
       "2  raja Last_Name  "
      ]
     },
     "execution_count": 65,
     "metadata": {},
     "output_type": "execute_result"
    }
   ],
   "source": [
    "# so again let me combine the first & last name into one and i 'll delete  these columns'\n",
    "\n",
    "df['Full_col'] = df['First_Name']+ ' '+['Last_Name']\n",
    "df"
   ]
  },
  {
   "cell_type": "code",
   "execution_count": 66,
   "metadata": {},
   "outputs": [
    {
     "data": {
      "text/html": [
       "<div>\n",
       "<style scoped>\n",
       "    .dataframe tbody tr th:only-of-type {\n",
       "        vertical-align: middle;\n",
       "    }\n",
       "\n",
       "    .dataframe tbody tr th {\n",
       "        vertical-align: top;\n",
       "    }\n",
       "\n",
       "    .dataframe thead th {\n",
       "        text-align: right;\n",
       "    }\n",
       "</style>\n",
       "<table border=\"1\" class=\"dataframe\">\n",
       "  <thead>\n",
       "    <tr style=\"text-align: right;\">\n",
       "      <th></th>\n",
       "      <th>User_Hobby</th>\n",
       "      <th>Emp_Occupation</th>\n",
       "      <th>User_Location</th>\n",
       "      <th>AreaCode</th>\n",
       "      <th>Full_col</th>\n",
       "    </tr>\n",
       "  </thead>\n",
       "  <tbody>\n",
       "    <tr>\n",
       "      <th>0</th>\n",
       "      <td>Reading</td>\n",
       "      <td>Engineer</td>\n",
       "      <td>jaipur</td>\n",
       "      <td>303106</td>\n",
       "      <td>Moni Last_Name</td>\n",
       "    </tr>\n",
       "    <tr>\n",
       "      <th>1</th>\n",
       "      <td>Study</td>\n",
       "      <td>Product Ownor</td>\n",
       "      <td>delhi</td>\n",
       "      <td>302020</td>\n",
       "      <td>Joe Last_Name</td>\n",
       "    </tr>\n",
       "    <tr>\n",
       "      <th>2</th>\n",
       "      <td>Playing</td>\n",
       "      <td>Developer</td>\n",
       "      <td>sastri nagar</td>\n",
       "      <td>302016</td>\n",
       "      <td>raja Last_Name</td>\n",
       "    </tr>\n",
       "  </tbody>\n",
       "</table>\n",
       "</div>"
      ],
      "text/plain": [
       "  User_Hobby Emp_Occupation User_Location AreaCode        Full_col\n",
       "0    Reading       Engineer        jaipur   303106  Moni Last_Name\n",
       "1      Study  Product Ownor         delhi   302020   Joe Last_Name\n",
       "2    Playing      Developer  sastri nagar   302016  raja Last_Name"
      ]
     },
     "execution_count": 66,
     "metadata": {},
     "output_type": "execute_result"
    }
   ],
   "source": [
    "# dropping first & last name column\n",
    "\n",
    "df.drop(columns=['First_Name', 'Last_Name'], inplace=True)\n",
    "df"
   ]
  },
  {
   "cell_type": "code",
   "execution_count": 67,
   "metadata": {},
   "outputs": [
    {
     "data": {
      "text/html": [
       "<div>\n",
       "<style scoped>\n",
       "    .dataframe tbody tr th:only-of-type {\n",
       "        vertical-align: middle;\n",
       "    }\n",
       "\n",
       "    .dataframe tbody tr th {\n",
       "        vertical-align: top;\n",
       "    }\n",
       "\n",
       "    .dataframe thead th {\n",
       "        text-align: right;\n",
       "    }\n",
       "</style>\n",
       "<table border=\"1\" class=\"dataframe\">\n",
       "  <thead>\n",
       "    <tr style=\"text-align: right;\">\n",
       "      <th></th>\n",
       "      <th>0</th>\n",
       "      <th>1</th>\n",
       "    </tr>\n",
       "  </thead>\n",
       "  <tbody>\n",
       "    <tr>\n",
       "      <th>0</th>\n",
       "      <td>Moni</td>\n",
       "      <td>Last_Name</td>\n",
       "    </tr>\n",
       "    <tr>\n",
       "      <th>1</th>\n",
       "      <td>Joe</td>\n",
       "      <td>Last_Name</td>\n",
       "    </tr>\n",
       "    <tr>\n",
       "      <th>2</th>\n",
       "      <td>raja</td>\n",
       "      <td>Last_Name</td>\n",
       "    </tr>\n",
       "  </tbody>\n",
       "</table>\n",
       "</div>"
      ],
      "text/plain": [
       "      0          1\n",
       "0  Moni  Last_Name\n",
       "1   Joe  Last_Name\n",
       "2  raja  Last_Name"
      ]
     },
     "execution_count": 67,
     "metadata": {},
     "output_type": "execute_result"
    }
   ],
   "source": [
    "# Now if you want to revert back the changes - again want to add the columns then -  we can use str for this\n",
    "\n",
    "df['Full_col'].str.split(' ', expand = True)\n",
    "\n"
   ]
  },
  {
   "cell_type": "code",
   "execution_count": 68,
   "metadata": {},
   "outputs": [],
   "source": [
    "# I can see that i got two columns now adding back to original df\n",
    "\n",
    "df[['First_Name', 'Last_Name']] = df['Full_col'].str.split(' ', expand = True)"
   ]
  },
  {
   "cell_type": "code",
   "execution_count": 69,
   "metadata": {},
   "outputs": [
    {
     "data": {
      "text/html": [
       "<div>\n",
       "<style scoped>\n",
       "    .dataframe tbody tr th:only-of-type {\n",
       "        vertical-align: middle;\n",
       "    }\n",
       "\n",
       "    .dataframe tbody tr th {\n",
       "        vertical-align: top;\n",
       "    }\n",
       "\n",
       "    .dataframe thead th {\n",
       "        text-align: right;\n",
       "    }\n",
       "</style>\n",
       "<table border=\"1\" class=\"dataframe\">\n",
       "  <thead>\n",
       "    <tr style=\"text-align: right;\">\n",
       "      <th></th>\n",
       "      <th>User_Hobby</th>\n",
       "      <th>Emp_Occupation</th>\n",
       "      <th>User_Location</th>\n",
       "      <th>AreaCode</th>\n",
       "      <th>Full_col</th>\n",
       "      <th>First_Name</th>\n",
       "      <th>Last_Name</th>\n",
       "    </tr>\n",
       "  </thead>\n",
       "  <tbody>\n",
       "    <tr>\n",
       "      <th>0</th>\n",
       "      <td>Reading</td>\n",
       "      <td>Engineer</td>\n",
       "      <td>jaipur</td>\n",
       "      <td>303106</td>\n",
       "      <td>Moni Last_Name</td>\n",
       "      <td>Moni</td>\n",
       "      <td>Last_Name</td>\n",
       "    </tr>\n",
       "    <tr>\n",
       "      <th>1</th>\n",
       "      <td>Study</td>\n",
       "      <td>Product Ownor</td>\n",
       "      <td>delhi</td>\n",
       "      <td>302020</td>\n",
       "      <td>Joe Last_Name</td>\n",
       "      <td>Joe</td>\n",
       "      <td>Last_Name</td>\n",
       "    </tr>\n",
       "    <tr>\n",
       "      <th>2</th>\n",
       "      <td>Playing</td>\n",
       "      <td>Developer</td>\n",
       "      <td>sastri nagar</td>\n",
       "      <td>302016</td>\n",
       "      <td>raja Last_Name</td>\n",
       "      <td>raja</td>\n",
       "      <td>Last_Name</td>\n",
       "    </tr>\n",
       "    <tr>\n",
       "      <th>3</th>\n",
       "      <td>NaN</td>\n",
       "      <td>NaN</td>\n",
       "      <td>NaN</td>\n",
       "      <td>NaN</td>\n",
       "      <td>NaN</td>\n",
       "      <td>Mannat</td>\n",
       "      <td>NaN</td>\n",
       "    </tr>\n",
       "  </tbody>\n",
       "</table>\n",
       "</div>"
      ],
      "text/plain": [
       "  User_Hobby Emp_Occupation User_Location AreaCode        Full_col First_Name  \\\n",
       "0    Reading       Engineer        jaipur   303106  Moni Last_Name       Moni   \n",
       "1      Study  Product Ownor         delhi   302020   Joe Last_Name        Joe   \n",
       "2    Playing      Developer  sastri nagar   302016  raja Last_Name       raja   \n",
       "3        NaN            NaN           NaN      NaN             NaN     Mannat   \n",
       "\n",
       "   Last_Name  \n",
       "0  Last_Name  \n",
       "1  Last_Name  \n",
       "2  Last_Name  \n",
       "3        NaN  "
      ]
     },
     "execution_count": 69,
     "metadata": {},
     "output_type": "execute_result"
    }
   ],
   "source": [
    "# append data in the rows\n",
    "\n",
    "df.append({'First_Name':'Mannat' },ignore_index= True)\n"
   ]
  },
  {
   "cell_type": "code",
   "execution_count": null,
   "metadata": {},
   "outputs": [],
   "source": []
  },
  {
   "cell_type": "code",
   "execution_count": 70,
   "metadata": {},
   "outputs": [],
   "source": [
    "# I can append two data frames also\n",
    "\n",
    "persons3 = {\n",
    "    'FName':['Mukesh','John'],\n",
    "    'LName':['Yadav', 'Knack'],\n",
    "    'Email':['muke@mymail.com', 'john@knack.com']\n",
    "    \n",
    "}\n",
    "\n",
    "df2 = pd.DataFrame(persons3)"
   ]
  },
  {
   "cell_type": "code",
   "execution_count": 71,
   "metadata": {},
   "outputs": [
    {
     "data": {
      "text/html": [
       "<div>\n",
       "<style scoped>\n",
       "    .dataframe tbody tr th:only-of-type {\n",
       "        vertical-align: middle;\n",
       "    }\n",
       "\n",
       "    .dataframe tbody tr th {\n",
       "        vertical-align: top;\n",
       "    }\n",
       "\n",
       "    .dataframe thead th {\n",
       "        text-align: right;\n",
       "    }\n",
       "</style>\n",
       "<table border=\"1\" class=\"dataframe\">\n",
       "  <thead>\n",
       "    <tr style=\"text-align: right;\">\n",
       "      <th></th>\n",
       "      <th>FName</th>\n",
       "      <th>LName</th>\n",
       "      <th>Email</th>\n",
       "    </tr>\n",
       "  </thead>\n",
       "  <tbody>\n",
       "    <tr>\n",
       "      <th>0</th>\n",
       "      <td>Mukesh</td>\n",
       "      <td>Yadav</td>\n",
       "      <td>muke@mymail.com</td>\n",
       "    </tr>\n",
       "    <tr>\n",
       "      <th>1</th>\n",
       "      <td>John</td>\n",
       "      <td>Knack</td>\n",
       "      <td>john@knack.com</td>\n",
       "    </tr>\n",
       "  </tbody>\n",
       "</table>\n",
       "</div>"
      ],
      "text/plain": [
       "    FName  LName            Email\n",
       "0  Mukesh  Yadav  muke@mymail.com\n",
       "1    John  Knack   john@knack.com"
      ]
     },
     "execution_count": 71,
     "metadata": {},
     "output_type": "execute_result"
    }
   ],
   "source": [
    "df2"
   ]
  },
  {
   "cell_type": "code",
   "execution_count": 72,
   "metadata": {},
   "outputs": [
    {
     "data": {
      "text/html": [
       "<div>\n",
       "<style scoped>\n",
       "    .dataframe tbody tr th:only-of-type {\n",
       "        vertical-align: middle;\n",
       "    }\n",
       "\n",
       "    .dataframe tbody tr th {\n",
       "        vertical-align: top;\n",
       "    }\n",
       "\n",
       "    .dataframe thead th {\n",
       "        text-align: right;\n",
       "    }\n",
       "</style>\n",
       "<table border=\"1\" class=\"dataframe\">\n",
       "  <thead>\n",
       "    <tr style=\"text-align: right;\">\n",
       "      <th></th>\n",
       "      <th>User_Hobby</th>\n",
       "      <th>Emp_Occupation</th>\n",
       "      <th>User_Location</th>\n",
       "      <th>AreaCode</th>\n",
       "      <th>Full_col</th>\n",
       "      <th>First_Name</th>\n",
       "      <th>Last_Name</th>\n",
       "      <th>FName</th>\n",
       "      <th>LName</th>\n",
       "      <th>Email</th>\n",
       "    </tr>\n",
       "  </thead>\n",
       "  <tbody>\n",
       "    <tr>\n",
       "      <th>0</th>\n",
       "      <td>Reading</td>\n",
       "      <td>Engineer</td>\n",
       "      <td>jaipur</td>\n",
       "      <td>303106</td>\n",
       "      <td>Moni Last_Name</td>\n",
       "      <td>Moni</td>\n",
       "      <td>Last_Name</td>\n",
       "      <td>NaN</td>\n",
       "      <td>NaN</td>\n",
       "      <td>NaN</td>\n",
       "    </tr>\n",
       "    <tr>\n",
       "      <th>1</th>\n",
       "      <td>Study</td>\n",
       "      <td>Product Ownor</td>\n",
       "      <td>delhi</td>\n",
       "      <td>302020</td>\n",
       "      <td>Joe Last_Name</td>\n",
       "      <td>Joe</td>\n",
       "      <td>Last_Name</td>\n",
       "      <td>NaN</td>\n",
       "      <td>NaN</td>\n",
       "      <td>NaN</td>\n",
       "    </tr>\n",
       "    <tr>\n",
       "      <th>2</th>\n",
       "      <td>Playing</td>\n",
       "      <td>Developer</td>\n",
       "      <td>sastri nagar</td>\n",
       "      <td>302016</td>\n",
       "      <td>raja Last_Name</td>\n",
       "      <td>raja</td>\n",
       "      <td>Last_Name</td>\n",
       "      <td>NaN</td>\n",
       "      <td>NaN</td>\n",
       "      <td>NaN</td>\n",
       "    </tr>\n",
       "    <tr>\n",
       "      <th>3</th>\n",
       "      <td>NaN</td>\n",
       "      <td>NaN</td>\n",
       "      <td>NaN</td>\n",
       "      <td>NaN</td>\n",
       "      <td>NaN</td>\n",
       "      <td>NaN</td>\n",
       "      <td>NaN</td>\n",
       "      <td>Mukesh</td>\n",
       "      <td>Yadav</td>\n",
       "      <td>muke@mymail.com</td>\n",
       "    </tr>\n",
       "    <tr>\n",
       "      <th>4</th>\n",
       "      <td>NaN</td>\n",
       "      <td>NaN</td>\n",
       "      <td>NaN</td>\n",
       "      <td>NaN</td>\n",
       "      <td>NaN</td>\n",
       "      <td>NaN</td>\n",
       "      <td>NaN</td>\n",
       "      <td>John</td>\n",
       "      <td>Knack</td>\n",
       "      <td>john@knack.com</td>\n",
       "    </tr>\n",
       "  </tbody>\n",
       "</table>\n",
       "</div>"
      ],
      "text/plain": [
       "  User_Hobby Emp_Occupation User_Location AreaCode        Full_col First_Name  \\\n",
       "0    Reading       Engineer        jaipur   303106  Moni Last_Name       Moni   \n",
       "1      Study  Product Ownor         delhi   302020   Joe Last_Name        Joe   \n",
       "2    Playing      Developer  sastri nagar   302016  raja Last_Name       raja   \n",
       "3        NaN            NaN           NaN      NaN             NaN        NaN   \n",
       "4        NaN            NaN           NaN      NaN             NaN        NaN   \n",
       "\n",
       "   Last_Name   FName  LName            Email  \n",
       "0  Last_Name     NaN    NaN              NaN  \n",
       "1  Last_Name     NaN    NaN              NaN  \n",
       "2  Last_Name     NaN    NaN              NaN  \n",
       "3        NaN  Mukesh  Yadav  muke@mymail.com  \n",
       "4        NaN    John  Knack   john@knack.com  "
      ]
     },
     "execution_count": 72,
     "metadata": {},
     "output_type": "execute_result"
    }
   ],
   "source": [
    "# Appending df2 into df by seting ignore_index = True\n",
    "\n",
    "df.append(df2, ignore_index=True)"
   ]
  },
  {
   "cell_type": "code",
   "execution_count": 73,
   "metadata": {},
   "outputs": [
    {
     "data": {
      "text/html": [
       "<div>\n",
       "<style scoped>\n",
       "    .dataframe tbody tr th:only-of-type {\n",
       "        vertical-align: middle;\n",
       "    }\n",
       "\n",
       "    .dataframe tbody tr th {\n",
       "        vertical-align: top;\n",
       "    }\n",
       "\n",
       "    .dataframe thead th {\n",
       "        text-align: right;\n",
       "    }\n",
       "</style>\n",
       "<table border=\"1\" class=\"dataframe\">\n",
       "  <thead>\n",
       "    <tr style=\"text-align: right;\">\n",
       "      <th></th>\n",
       "      <th>User_Hobby</th>\n",
       "      <th>Emp_Occupation</th>\n",
       "      <th>User_Location</th>\n",
       "      <th>AreaCode</th>\n",
       "      <th>Full_col</th>\n",
       "      <th>First_Name</th>\n",
       "      <th>Last_Name</th>\n",
       "      <th>FName</th>\n",
       "      <th>LName</th>\n",
       "      <th>Email</th>\n",
       "    </tr>\n",
       "  </thead>\n",
       "  <tbody>\n",
       "    <tr>\n",
       "      <th>0</th>\n",
       "      <td>Reading</td>\n",
       "      <td>Engineer</td>\n",
       "      <td>jaipur</td>\n",
       "      <td>303106</td>\n",
       "      <td>Moni Last_Name</td>\n",
       "      <td>Moni</td>\n",
       "      <td>Last_Name</td>\n",
       "      <td>NaN</td>\n",
       "      <td>NaN</td>\n",
       "      <td>NaN</td>\n",
       "    </tr>\n",
       "    <tr>\n",
       "      <th>1</th>\n",
       "      <td>Study</td>\n",
       "      <td>Product Ownor</td>\n",
       "      <td>delhi</td>\n",
       "      <td>302020</td>\n",
       "      <td>Joe Last_Name</td>\n",
       "      <td>Joe</td>\n",
       "      <td>Last_Name</td>\n",
       "      <td>NaN</td>\n",
       "      <td>NaN</td>\n",
       "      <td>NaN</td>\n",
       "    </tr>\n",
       "    <tr>\n",
       "      <th>2</th>\n",
       "      <td>Playing</td>\n",
       "      <td>Developer</td>\n",
       "      <td>sastri nagar</td>\n",
       "      <td>302016</td>\n",
       "      <td>raja Last_Name</td>\n",
       "      <td>raja</td>\n",
       "      <td>Last_Name</td>\n",
       "      <td>NaN</td>\n",
       "      <td>NaN</td>\n",
       "      <td>NaN</td>\n",
       "    </tr>\n",
       "    <tr>\n",
       "      <th>3</th>\n",
       "      <td>NaN</td>\n",
       "      <td>NaN</td>\n",
       "      <td>NaN</td>\n",
       "      <td>NaN</td>\n",
       "      <td>NaN</td>\n",
       "      <td>NaN</td>\n",
       "      <td>NaN</td>\n",
       "      <td>Mukesh</td>\n",
       "      <td>Yadav</td>\n",
       "      <td>muke@mymail.com</td>\n",
       "    </tr>\n",
       "    <tr>\n",
       "      <th>4</th>\n",
       "      <td>NaN</td>\n",
       "      <td>NaN</td>\n",
       "      <td>NaN</td>\n",
       "      <td>NaN</td>\n",
       "      <td>NaN</td>\n",
       "      <td>NaN</td>\n",
       "      <td>NaN</td>\n",
       "      <td>John</td>\n",
       "      <td>Knack</td>\n",
       "      <td>john@knack.com</td>\n",
       "    </tr>\n",
       "  </tbody>\n",
       "</table>\n",
       "</div>"
      ],
      "text/plain": [
       "  User_Hobby Emp_Occupation User_Location AreaCode        Full_col First_Name  \\\n",
       "0    Reading       Engineer        jaipur   303106  Moni Last_Name       Moni   \n",
       "1      Study  Product Ownor         delhi   302020   Joe Last_Name        Joe   \n",
       "2    Playing      Developer  sastri nagar   302016  raja Last_Name       raja   \n",
       "3        NaN            NaN           NaN      NaN             NaN        NaN   \n",
       "4        NaN            NaN           NaN      NaN             NaN        NaN   \n",
       "\n",
       "   Last_Name   FName  LName            Email  \n",
       "0  Last_Name     NaN    NaN              NaN  \n",
       "1  Last_Name     NaN    NaN              NaN  \n",
       "2  Last_Name     NaN    NaN              NaN  \n",
       "3        NaN  Mukesh  Yadav  muke@mymail.com  \n",
       "4        NaN    John  Knack   john@knack.com  "
      ]
     },
     "execution_count": 73,
     "metadata": {},
     "output_type": "execute_result"
    }
   ],
   "source": [
    "# by using above code we can append but we don;t have inplace =True(append() don't have inplace) to commit our changes so we can do this way-\n",
    "df = df.append(df2, ignore_index=True)\n",
    "df"
   ]
  },
  {
   "cell_type": "code",
   "execution_count": 74,
   "metadata": {},
   "outputs": [
    {
     "data": {
      "text/html": [
       "<div>\n",
       "<style scoped>\n",
       "    .dataframe tbody tr th:only-of-type {\n",
       "        vertical-align: middle;\n",
       "    }\n",
       "\n",
       "    .dataframe tbody tr th {\n",
       "        vertical-align: top;\n",
       "    }\n",
       "\n",
       "    .dataframe thead th {\n",
       "        text-align: right;\n",
       "    }\n",
       "</style>\n",
       "<table border=\"1\" class=\"dataframe\">\n",
       "  <thead>\n",
       "    <tr style=\"text-align: right;\">\n",
       "      <th></th>\n",
       "      <th>User_Hobby</th>\n",
       "      <th>Emp_Occupation</th>\n",
       "      <th>User_Location</th>\n",
       "      <th>AreaCode</th>\n",
       "      <th>Full_col</th>\n",
       "      <th>First_Name</th>\n",
       "      <th>Last_Name</th>\n",
       "      <th>FName</th>\n",
       "      <th>LName</th>\n",
       "      <th>Email</th>\n",
       "    </tr>\n",
       "  </thead>\n",
       "  <tbody>\n",
       "    <tr>\n",
       "      <th>0</th>\n",
       "      <td>Reading</td>\n",
       "      <td>Engineer</td>\n",
       "      <td>jaipur</td>\n",
       "      <td>303106</td>\n",
       "      <td>Moni Last_Name</td>\n",
       "      <td>Moni</td>\n",
       "      <td>Last_Name</td>\n",
       "      <td>NaN</td>\n",
       "      <td>NaN</td>\n",
       "      <td>NaN</td>\n",
       "    </tr>\n",
       "    <tr>\n",
       "      <th>1</th>\n",
       "      <td>Study</td>\n",
       "      <td>Product Ownor</td>\n",
       "      <td>delhi</td>\n",
       "      <td>302020</td>\n",
       "      <td>Joe Last_Name</td>\n",
       "      <td>Joe</td>\n",
       "      <td>Last_Name</td>\n",
       "      <td>NaN</td>\n",
       "      <td>NaN</td>\n",
       "      <td>NaN</td>\n",
       "    </tr>\n",
       "    <tr>\n",
       "      <th>2</th>\n",
       "      <td>Playing</td>\n",
       "      <td>Developer</td>\n",
       "      <td>sastri nagar</td>\n",
       "      <td>302016</td>\n",
       "      <td>raja Last_Name</td>\n",
       "      <td>raja</td>\n",
       "      <td>Last_Name</td>\n",
       "      <td>NaN</td>\n",
       "      <td>NaN</td>\n",
       "      <td>NaN</td>\n",
       "    </tr>\n",
       "    <tr>\n",
       "      <th>3</th>\n",
       "      <td>NaN</td>\n",
       "      <td>NaN</td>\n",
       "      <td>NaN</td>\n",
       "      <td>NaN</td>\n",
       "      <td>NaN</td>\n",
       "      <td>NaN</td>\n",
       "      <td>NaN</td>\n",
       "      <td>Mukesh</td>\n",
       "      <td>Yadav</td>\n",
       "      <td>muke@mymail.com</td>\n",
       "    </tr>\n",
       "  </tbody>\n",
       "</table>\n",
       "</div>"
      ],
      "text/plain": [
       "  User_Hobby Emp_Occupation User_Location AreaCode        Full_col First_Name  \\\n",
       "0    Reading       Engineer        jaipur   303106  Moni Last_Name       Moni   \n",
       "1      Study  Product Ownor         delhi   302020   Joe Last_Name        Joe   \n",
       "2    Playing      Developer  sastri nagar   302016  raja Last_Name       raja   \n",
       "3        NaN            NaN           NaN      NaN             NaN        NaN   \n",
       "\n",
       "   Last_Name   FName  LName            Email  \n",
       "0  Last_Name     NaN    NaN              NaN  \n",
       "1  Last_Name     NaN    NaN              NaN  \n",
       "2  Last_Name     NaN    NaN              NaN  \n",
       "3        NaN  Mukesh  Yadav  muke@mymail.com  "
      ]
     },
     "execution_count": 74,
     "metadata": {},
     "output_type": "execute_result"
    }
   ],
   "source": [
    "#Lets remove rows\n",
    "\n",
    "df.drop(index=4)"
   ]
  },
  {
   "cell_type": "code",
   "execution_count": 75,
   "metadata": {},
   "outputs": [
    {
     "data": {
      "text/html": [
       "<div>\n",
       "<style scoped>\n",
       "    .dataframe tbody tr th:only-of-type {\n",
       "        vertical-align: middle;\n",
       "    }\n",
       "\n",
       "    .dataframe tbody tr th {\n",
       "        vertical-align: top;\n",
       "    }\n",
       "\n",
       "    .dataframe thead th {\n",
       "        text-align: right;\n",
       "    }\n",
       "</style>\n",
       "<table border=\"1\" class=\"dataframe\">\n",
       "  <thead>\n",
       "    <tr style=\"text-align: right;\">\n",
       "      <th></th>\n",
       "      <th>User_Hobby</th>\n",
       "      <th>Emp_Occupation</th>\n",
       "      <th>User_Location</th>\n",
       "      <th>AreaCode</th>\n",
       "      <th>Full_col</th>\n",
       "      <th>First_Name</th>\n",
       "      <th>Last_Name</th>\n",
       "      <th>FName</th>\n",
       "      <th>LName</th>\n",
       "      <th>Email</th>\n",
       "    </tr>\n",
       "  </thead>\n",
       "  <tbody>\n",
       "    <tr>\n",
       "      <th>0</th>\n",
       "      <td>Reading</td>\n",
       "      <td>Engineer</td>\n",
       "      <td>jaipur</td>\n",
       "      <td>303106</td>\n",
       "      <td>Moni Last_Name</td>\n",
       "      <td>Moni</td>\n",
       "      <td>Last_Name</td>\n",
       "      <td>NaN</td>\n",
       "      <td>NaN</td>\n",
       "      <td>NaN</td>\n",
       "    </tr>\n",
       "    <tr>\n",
       "      <th>1</th>\n",
       "      <td>Study</td>\n",
       "      <td>Product Ownor</td>\n",
       "      <td>delhi</td>\n",
       "      <td>302020</td>\n",
       "      <td>Joe Last_Name</td>\n",
       "      <td>Joe</td>\n",
       "      <td>Last_Name</td>\n",
       "      <td>NaN</td>\n",
       "      <td>NaN</td>\n",
       "      <td>NaN</td>\n",
       "    </tr>\n",
       "    <tr>\n",
       "      <th>2</th>\n",
       "      <td>Playing</td>\n",
       "      <td>Developer</td>\n",
       "      <td>sastri nagar</td>\n",
       "      <td>302016</td>\n",
       "      <td>raja Last_Name</td>\n",
       "      <td>raja</td>\n",
       "      <td>Last_Name</td>\n",
       "      <td>NaN</td>\n",
       "      <td>NaN</td>\n",
       "      <td>NaN</td>\n",
       "    </tr>\n",
       "    <tr>\n",
       "      <th>3</th>\n",
       "      <td>NaN</td>\n",
       "      <td>NaN</td>\n",
       "      <td>NaN</td>\n",
       "      <td>NaN</td>\n",
       "      <td>NaN</td>\n",
       "      <td>NaN</td>\n",
       "      <td>NaN</td>\n",
       "      <td>Mukesh</td>\n",
       "      <td>Yadav</td>\n",
       "      <td>muke@mymail.com</td>\n",
       "    </tr>\n",
       "    <tr>\n",
       "      <th>4</th>\n",
       "      <td>NaN</td>\n",
       "      <td>NaN</td>\n",
       "      <td>NaN</td>\n",
       "      <td>NaN</td>\n",
       "      <td>NaN</td>\n",
       "      <td>NaN</td>\n",
       "      <td>NaN</td>\n",
       "      <td>John</td>\n",
       "      <td>Knack</td>\n",
       "      <td>john@knack.com</td>\n",
       "    </tr>\n",
       "  </tbody>\n",
       "</table>\n",
       "</div>"
      ],
      "text/plain": [
       "  User_Hobby Emp_Occupation User_Location AreaCode        Full_col First_Name  \\\n",
       "0    Reading       Engineer        jaipur   303106  Moni Last_Name       Moni   \n",
       "1      Study  Product Ownor         delhi   302020   Joe Last_Name        Joe   \n",
       "2    Playing      Developer  sastri nagar   302016  raja Last_Name       raja   \n",
       "3        NaN            NaN           NaN      NaN             NaN        NaN   \n",
       "4        NaN            NaN           NaN      NaN             NaN        NaN   \n",
       "\n",
       "   Last_Name   FName  LName            Email  \n",
       "0  Last_Name     NaN    NaN              NaN  \n",
       "1  Last_Name     NaN    NaN              NaN  \n",
       "2  Last_Name     NaN    NaN              NaN  \n",
       "3        NaN  Mukesh  Yadav  muke@mymail.com  \n",
       "4        NaN    John  Knack   john@knack.com  "
      ]
     },
     "execution_count": 75,
     "metadata": {},
     "output_type": "execute_result"
    }
   ],
   "source": [
    "# drop rows using conditions\n",
    "\n",
    "df.drop(index= df[df['Last_Name'] == 'Knack'].index)\n",
    "\n",
    "# here I used .index at the last bcz I'm using index =, so i need to provide a index value by calculating condition\n",
    "\n",
    "# Another way to write above code using filter\n",
    "\n",
    "#filt = df['Last_Name']=='Knack'\n",
    "#df.drop(index=df[filt].index)"
   ]
  },
  {
   "cell_type": "code",
   "execution_count": null,
   "metadata": {},
   "outputs": [],
   "source": []
  },
  {
   "cell_type": "markdown",
   "metadata": {},
   "source": [
    "### Sorting Data"
   ]
  },
  {
   "cell_type": "code",
   "execution_count": 78,
   "metadata": {},
   "outputs": [
    {
     "data": {
      "text/html": [
       "<div>\n",
       "<style scoped>\n",
       "    .dataframe tbody tr th:only-of-type {\n",
       "        vertical-align: middle;\n",
       "    }\n",
       "\n",
       "    .dataframe tbody tr th {\n",
       "        vertical-align: top;\n",
       "    }\n",
       "\n",
       "    .dataframe thead th {\n",
       "        text-align: right;\n",
       "    }\n",
       "</style>\n",
       "<table border=\"1\" class=\"dataframe\">\n",
       "  <thead>\n",
       "    <tr style=\"text-align: right;\">\n",
       "      <th></th>\n",
       "      <th>FName</th>\n",
       "      <th>LName</th>\n",
       "      <th>Email</th>\n",
       "    </tr>\n",
       "  </thead>\n",
       "  <tbody>\n",
       "    <tr>\n",
       "      <th>0</th>\n",
       "      <td>Mukesh</td>\n",
       "      <td>Yadav</td>\n",
       "      <td>muke@mymail.com</td>\n",
       "    </tr>\n",
       "    <tr>\n",
       "      <th>1</th>\n",
       "      <td>John</td>\n",
       "      <td>Knack</td>\n",
       "      <td>john@knack.com</td>\n",
       "    </tr>\n",
       "    <tr>\n",
       "      <th>2</th>\n",
       "      <td>Willie</td>\n",
       "      <td>Meeks</td>\n",
       "      <td>Willli@meeks.com</td>\n",
       "    </tr>\n",
       "    <tr>\n",
       "      <th>3</th>\n",
       "      <td>Shawn</td>\n",
       "      <td>Booth</td>\n",
       "      <td>shawn@booth.com</td>\n",
       "    </tr>\n",
       "  </tbody>\n",
       "</table>\n",
       "</div>"
      ],
      "text/plain": [
       "    FName  LName             Email\n",
       "0  Mukesh  Yadav   muke@mymail.com\n",
       "1    John  Knack    john@knack.com\n",
       "2  Willie  Meeks  Willli@meeks.com\n",
       "3   Shawn  Booth   shawn@booth.com"
      ]
     },
     "execution_count": 78,
     "metadata": {},
     "output_type": "execute_result"
    }
   ],
   "source": [
    "persons3 = {\n",
    "    'FName':['Mukesh','John','Willie','Shawn'],\n",
    "    'LName':['Yadav', 'Knack', 'Meeks','Booth'],\n",
    "    'Email':['muke@mymail.com', 'john@knack.com','Willli@meeks.com','shawn@booth.com']\n",
    "    \n",
    "}\n",
    "\n",
    "sortingData = pd.DataFrame(persons3)\n",
    "sortingData"
   ]
  },
  {
   "cell_type": "code",
   "execution_count": 79,
   "metadata": {},
   "outputs": [
    {
     "data": {
      "text/html": [
       "<div>\n",
       "<style scoped>\n",
       "    .dataframe tbody tr th:only-of-type {\n",
       "        vertical-align: middle;\n",
       "    }\n",
       "\n",
       "    .dataframe tbody tr th {\n",
       "        vertical-align: top;\n",
       "    }\n",
       "\n",
       "    .dataframe thead th {\n",
       "        text-align: right;\n",
       "    }\n",
       "</style>\n",
       "<table border=\"1\" class=\"dataframe\">\n",
       "  <thead>\n",
       "    <tr style=\"text-align: right;\">\n",
       "      <th></th>\n",
       "      <th>FName</th>\n",
       "      <th>LName</th>\n",
       "      <th>Email</th>\n",
       "    </tr>\n",
       "  </thead>\n",
       "  <tbody>\n",
       "    <tr>\n",
       "      <th>3</th>\n",
       "      <td>Shawn</td>\n",
       "      <td>Booth</td>\n",
       "      <td>shawn@booth.com</td>\n",
       "    </tr>\n",
       "    <tr>\n",
       "      <th>1</th>\n",
       "      <td>John</td>\n",
       "      <td>Knack</td>\n",
       "      <td>john@knack.com</td>\n",
       "    </tr>\n",
       "    <tr>\n",
       "      <th>2</th>\n",
       "      <td>Willie</td>\n",
       "      <td>Meeks</td>\n",
       "      <td>Willli@meeks.com</td>\n",
       "    </tr>\n",
       "    <tr>\n",
       "      <th>0</th>\n",
       "      <td>Mukesh</td>\n",
       "      <td>Yadav</td>\n",
       "      <td>muke@mymail.com</td>\n",
       "    </tr>\n",
       "  </tbody>\n",
       "</table>\n",
       "</div>"
      ],
      "text/plain": [
       "    FName  LName             Email\n",
       "3   Shawn  Booth   shawn@booth.com\n",
       "1    John  Knack    john@knack.com\n",
       "2  Willie  Meeks  Willli@meeks.com\n",
       "0  Mukesh  Yadav   muke@mymail.com"
      ]
     },
     "execution_count": 79,
     "metadata": {},
     "output_type": "execute_result"
    }
   ],
   "source": [
    "# Lets sort the columns based on the LName\n",
    "\n",
    "sortingData.sort_values(by='LName')"
   ]
  },
  {
   "cell_type": "code",
   "execution_count": 81,
   "metadata": {},
   "outputs": [
    {
     "data": {
      "text/html": [
       "<div>\n",
       "<style scoped>\n",
       "    .dataframe tbody tr th:only-of-type {\n",
       "        vertical-align: middle;\n",
       "    }\n",
       "\n",
       "    .dataframe tbody tr th {\n",
       "        vertical-align: top;\n",
       "    }\n",
       "\n",
       "    .dataframe thead th {\n",
       "        text-align: right;\n",
       "    }\n",
       "</style>\n",
       "<table border=\"1\" class=\"dataframe\">\n",
       "  <thead>\n",
       "    <tr style=\"text-align: right;\">\n",
       "      <th></th>\n",
       "      <th>FName</th>\n",
       "      <th>LName</th>\n",
       "      <th>Email</th>\n",
       "    </tr>\n",
       "  </thead>\n",
       "  <tbody>\n",
       "    <tr>\n",
       "      <th>0</th>\n",
       "      <td>Mukesh</td>\n",
       "      <td>Yadav</td>\n",
       "      <td>muke@mymail.com</td>\n",
       "    </tr>\n",
       "    <tr>\n",
       "      <th>2</th>\n",
       "      <td>Willie</td>\n",
       "      <td>Meeks</td>\n",
       "      <td>Willli@meeks.com</td>\n",
       "    </tr>\n",
       "    <tr>\n",
       "      <th>1</th>\n",
       "      <td>John</td>\n",
       "      <td>Knack</td>\n",
       "      <td>john@knack.com</td>\n",
       "    </tr>\n",
       "    <tr>\n",
       "      <th>3</th>\n",
       "      <td>Shawn</td>\n",
       "      <td>Booth</td>\n",
       "      <td>shawn@booth.com</td>\n",
       "    </tr>\n",
       "  </tbody>\n",
       "</table>\n",
       "</div>"
      ],
      "text/plain": [
       "    FName  LName             Email\n",
       "0  Mukesh  Yadav   muke@mymail.com\n",
       "2  Willie  Meeks  Willli@meeks.com\n",
       "1    John  Knack    john@knack.com\n",
       "3   Shawn  Booth   shawn@booth.com"
      ]
     },
     "execution_count": 81,
     "metadata": {},
     "output_type": "execute_result"
    }
   ],
   "source": [
    "# we can sort based on the descending order also-\n",
    "\n",
    "sortingData.sort_values(by='LName', ascending=False)"
   ]
  },
  {
   "cell_type": "code",
   "execution_count": 82,
   "metadata": {},
   "outputs": [
    {
     "data": {
      "text/html": [
       "<div>\n",
       "<style scoped>\n",
       "    .dataframe tbody tr th:only-of-type {\n",
       "        vertical-align: middle;\n",
       "    }\n",
       "\n",
       "    .dataframe tbody tr th {\n",
       "        vertical-align: top;\n",
       "    }\n",
       "\n",
       "    .dataframe thead th {\n",
       "        text-align: right;\n",
       "    }\n",
       "</style>\n",
       "<table border=\"1\" class=\"dataframe\">\n",
       "  <thead>\n",
       "    <tr style=\"text-align: right;\">\n",
       "      <th></th>\n",
       "      <th>FName</th>\n",
       "      <th>LName</th>\n",
       "      <th>Email</th>\n",
       "    </tr>\n",
       "  </thead>\n",
       "  <tbody>\n",
       "    <tr>\n",
       "      <th>0</th>\n",
       "      <td>Mukesh</td>\n",
       "      <td>Yadav</td>\n",
       "      <td>muke@mymail.com</td>\n",
       "    </tr>\n",
       "    <tr>\n",
       "      <th>2</th>\n",
       "      <td>Willie</td>\n",
       "      <td>Meeks</td>\n",
       "      <td>Willli@meeks.com</td>\n",
       "    </tr>\n",
       "    <tr>\n",
       "      <th>1</th>\n",
       "      <td>John</td>\n",
       "      <td>Knack</td>\n",
       "      <td>john@knack.com</td>\n",
       "    </tr>\n",
       "    <tr>\n",
       "      <th>3</th>\n",
       "      <td>Shawn</td>\n",
       "      <td>Booth</td>\n",
       "      <td>shawn@booth.com</td>\n",
       "    </tr>\n",
       "  </tbody>\n",
       "</table>\n",
       "</div>"
      ],
      "text/plain": [
       "    FName  LName             Email\n",
       "0  Mukesh  Yadav   muke@mymail.com\n",
       "2  Willie  Meeks  Willli@meeks.com\n",
       "1    John  Knack    john@knack.com\n",
       "3   Shawn  Booth   shawn@booth.com"
      ]
     },
     "execution_count": 82,
     "metadata": {},
     "output_type": "execute_result"
    }
   ],
   "source": [
    "#We can sort multiple columns\n",
    "\n",
    "sortingData.sort_values(by=['LName','FName'], ascending=False)"
   ]
  },
  {
   "cell_type": "code",
   "execution_count": 83,
   "metadata": {},
   "outputs": [
    {
     "data": {
      "text/html": [
       "<div>\n",
       "<style scoped>\n",
       "    .dataframe tbody tr th:only-of-type {\n",
       "        vertical-align: middle;\n",
       "    }\n",
       "\n",
       "    .dataframe tbody tr th {\n",
       "        vertical-align: top;\n",
       "    }\n",
       "\n",
       "    .dataframe thead th {\n",
       "        text-align: right;\n",
       "    }\n",
       "</style>\n",
       "<table border=\"1\" class=\"dataframe\">\n",
       "  <thead>\n",
       "    <tr style=\"text-align: right;\">\n",
       "      <th></th>\n",
       "      <th>FName</th>\n",
       "      <th>LName</th>\n",
       "      <th>Email</th>\n",
       "    </tr>\n",
       "  </thead>\n",
       "  <tbody>\n",
       "    <tr>\n",
       "      <th>0</th>\n",
       "      <td>Mukesh</td>\n",
       "      <td>Yadav</td>\n",
       "      <td>muke@mymail.com</td>\n",
       "    </tr>\n",
       "    <tr>\n",
       "      <th>2</th>\n",
       "      <td>Willie</td>\n",
       "      <td>Meeks</td>\n",
       "      <td>Willli@meeks.com</td>\n",
       "    </tr>\n",
       "    <tr>\n",
       "      <th>1</th>\n",
       "      <td>John</td>\n",
       "      <td>Knack</td>\n",
       "      <td>john@knack.com</td>\n",
       "    </tr>\n",
       "    <tr>\n",
       "      <th>3</th>\n",
       "      <td>Shawn</td>\n",
       "      <td>Booth</td>\n",
       "      <td>shawn@booth.com</td>\n",
       "    </tr>\n",
       "  </tbody>\n",
       "</table>\n",
       "</div>"
      ],
      "text/plain": [
       "    FName  LName             Email\n",
       "0  Mukesh  Yadav   muke@mymail.com\n",
       "2  Willie  Meeks  Willli@meeks.com\n",
       "1    John  Knack    john@knack.com\n",
       "3   Shawn  Booth   shawn@booth.com"
      ]
     },
     "execution_count": 83,
     "metadata": {},
     "output_type": "execute_result"
    }
   ],
   "source": [
    "# we can pass multiple boolean conditon also -\n",
    "\n",
    "sortingData.sort_values(by=['LName','FName'], ascending=[False, True])\n",
    "\n",
    "#so from above code LName would be sort as Descending order while FName as Ascending"
   ]
  },
  {
   "cell_type": "code",
   "execution_count": 86,
   "metadata": {},
   "outputs": [
    {
     "data": {
      "text/html": [
       "<div>\n",
       "<style scoped>\n",
       "    .dataframe tbody tr th:only-of-type {\n",
       "        vertical-align: middle;\n",
       "    }\n",
       "\n",
       "    .dataframe tbody tr th {\n",
       "        vertical-align: top;\n",
       "    }\n",
       "\n",
       "    .dataframe thead th {\n",
       "        text-align: right;\n",
       "    }\n",
       "</style>\n",
       "<table border=\"1\" class=\"dataframe\">\n",
       "  <thead>\n",
       "    <tr style=\"text-align: right;\">\n",
       "      <th></th>\n",
       "      <th>FName</th>\n",
       "      <th>LName</th>\n",
       "      <th>Email</th>\n",
       "    </tr>\n",
       "  </thead>\n",
       "  <tbody>\n",
       "    <tr>\n",
       "      <th>0</th>\n",
       "      <td>Mukesh</td>\n",
       "      <td>Yadav</td>\n",
       "      <td>muke@mymail.com</td>\n",
       "    </tr>\n",
       "    <tr>\n",
       "      <th>1</th>\n",
       "      <td>John</td>\n",
       "      <td>Knack</td>\n",
       "      <td>john@knack.com</td>\n",
       "    </tr>\n",
       "    <tr>\n",
       "      <th>2</th>\n",
       "      <td>Willie</td>\n",
       "      <td>Meeks</td>\n",
       "      <td>Willli@meeks.com</td>\n",
       "    </tr>\n",
       "    <tr>\n",
       "      <th>3</th>\n",
       "      <td>Shawn</td>\n",
       "      <td>Booth</td>\n",
       "      <td>shawn@booth.com</td>\n",
       "    </tr>\n",
       "  </tbody>\n",
       "</table>\n",
       "</div>"
      ],
      "text/plain": [
       "    FName  LName             Email\n",
       "0  Mukesh  Yadav   muke@mymail.com\n",
       "1    John  Knack    john@knack.com\n",
       "2  Willie  Meeks  Willli@meeks.com\n",
       "3   Shawn  Booth   shawn@booth.com"
      ]
     },
     "execution_count": 86,
     "metadata": {},
     "output_type": "execute_result"
    }
   ],
   "source": [
    "sortingData "
   ]
  },
  {
   "cell_type": "code",
   "execution_count": 88,
   "metadata": {},
   "outputs": [
    {
     "data": {
      "text/html": [
       "<div>\n",
       "<style scoped>\n",
       "    .dataframe tbody tr th:only-of-type {\n",
       "        vertical-align: middle;\n",
       "    }\n",
       "\n",
       "    .dataframe tbody tr th {\n",
       "        vertical-align: top;\n",
       "    }\n",
       "\n",
       "    .dataframe thead th {\n",
       "        text-align: right;\n",
       "    }\n",
       "</style>\n",
       "<table border=\"1\" class=\"dataframe\">\n",
       "  <thead>\n",
       "    <tr style=\"text-align: right;\">\n",
       "      <th></th>\n",
       "      <th>FName</th>\n",
       "      <th>LName</th>\n",
       "      <th>Email</th>\n",
       "    </tr>\n",
       "  </thead>\n",
       "  <tbody>\n",
       "    <tr>\n",
       "      <th>0</th>\n",
       "      <td>Mukesh</td>\n",
       "      <td>Yadav</td>\n",
       "      <td>muke@mymail.com</td>\n",
       "    </tr>\n",
       "    <tr>\n",
       "      <th>2</th>\n",
       "      <td>Willie</td>\n",
       "      <td>Meeks</td>\n",
       "      <td>Willli@meeks.com</td>\n",
       "    </tr>\n",
       "    <tr>\n",
       "      <th>1</th>\n",
       "      <td>John</td>\n",
       "      <td>Knack</td>\n",
       "      <td>john@knack.com</td>\n",
       "    </tr>\n",
       "    <tr>\n",
       "      <th>3</th>\n",
       "      <td>Shawn</td>\n",
       "      <td>Booth</td>\n",
       "      <td>shawn@booth.com</td>\n",
       "    </tr>\n",
       "  </tbody>\n",
       "</table>\n",
       "</div>"
      ],
      "text/plain": [
       "    FName  LName             Email\n",
       "0  Mukesh  Yadav   muke@mymail.com\n",
       "2  Willie  Meeks  Willli@meeks.com\n",
       "1    John  Knack    john@knack.com\n",
       "3   Shawn  Booth   shawn@booth.com"
      ]
     },
     "execution_count": 88,
     "metadata": {},
     "output_type": "execute_result"
    }
   ],
   "source": [
    "# Original data is not modified, we have to do inplace=True\n",
    "\n",
    "sortingData.sort_values(by=['LName','FName'], ascending=[False, True], inplace=True)\n",
    "\n",
    "sortingData"
   ]
  },
  {
   "cell_type": "code",
   "execution_count": 89,
   "metadata": {},
   "outputs": [
    {
     "data": {
      "text/html": [
       "<div>\n",
       "<style scoped>\n",
       "    .dataframe tbody tr th:only-of-type {\n",
       "        vertical-align: middle;\n",
       "    }\n",
       "\n",
       "    .dataframe tbody tr th {\n",
       "        vertical-align: top;\n",
       "    }\n",
       "\n",
       "    .dataframe thead th {\n",
       "        text-align: right;\n",
       "    }\n",
       "</style>\n",
       "<table border=\"1\" class=\"dataframe\">\n",
       "  <thead>\n",
       "    <tr style=\"text-align: right;\">\n",
       "      <th></th>\n",
       "      <th>FName</th>\n",
       "      <th>LName</th>\n",
       "      <th>Email</th>\n",
       "    </tr>\n",
       "  </thead>\n",
       "  <tbody>\n",
       "    <tr>\n",
       "      <th>0</th>\n",
       "      <td>Mukesh</td>\n",
       "      <td>Yadav</td>\n",
       "      <td>muke@mymail.com</td>\n",
       "    </tr>\n",
       "    <tr>\n",
       "      <th>1</th>\n",
       "      <td>John</td>\n",
       "      <td>Knack</td>\n",
       "      <td>john@knack.com</td>\n",
       "    </tr>\n",
       "    <tr>\n",
       "      <th>2</th>\n",
       "      <td>Willie</td>\n",
       "      <td>Meeks</td>\n",
       "      <td>Willli@meeks.com</td>\n",
       "    </tr>\n",
       "    <tr>\n",
       "      <th>3</th>\n",
       "      <td>Shawn</td>\n",
       "      <td>Booth</td>\n",
       "      <td>shawn@booth.com</td>\n",
       "    </tr>\n",
       "  </tbody>\n",
       "</table>\n",
       "</div>"
      ],
      "text/plain": [
       "    FName  LName             Email\n",
       "0  Mukesh  Yadav   muke@mymail.com\n",
       "1    John  Knack    john@knack.com\n",
       "2  Willie  Meeks  Willli@meeks.com\n",
       "3   Shawn  Booth   shawn@booth.com"
      ]
     },
     "execution_count": 89,
     "metadata": {},
     "output_type": "execute_result"
    }
   ],
   "source": [
    "# Based on the index we can aslo sort\n",
    "\n",
    "sortingData.sort_index()"
   ]
  },
  {
   "cell_type": "code",
   "execution_count": 90,
   "metadata": {},
   "outputs": [
    {
     "data": {
      "text/plain": [
       "2    Willli@meeks.com\n",
       "1      john@knack.com\n",
       "0     muke@mymail.com\n",
       "3     shawn@booth.com\n",
       "Name: Email, dtype: object"
      ]
     },
     "execution_count": 90,
     "metadata": {},
     "output_type": "execute_result"
    }
   ],
   "source": [
    "# Individual column also we can sort\n",
    "\n",
    "sortingData['Email'].sort_values()"
   ]
  },
  {
   "cell_type": "code",
   "execution_count": null,
   "metadata": {},
   "outputs": [],
   "source": []
  }
 ],
 "metadata": {
  "kernelspec": {
   "display_name": "Python 3",
   "language": "python",
   "name": "python3"
  },
  "language_info": {
   "codemirror_mode": {
    "name": "ipython",
    "version": 3
   },
   "file_extension": ".py",
   "mimetype": "text/x-python",
   "name": "python",
   "nbconvert_exporter": "python",
   "pygments_lexer": "ipython3",
   "version": "3.8.2"
  }
 },
 "nbformat": 4,
 "nbformat_minor": 2
}
