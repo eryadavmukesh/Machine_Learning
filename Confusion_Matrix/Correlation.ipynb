{
 "cells": [
  {
   "cell_type": "code",
   "execution_count": 1,
   "id": "779e4f60",
   "metadata": {},
   "outputs": [],
   "source": [
    "# Import required libraries\n",
    "\n",
    "from numpy import mean\n",
    "from numpy import std\n",
    "from numpy import cov\n",
    "from scipy.stats import pearsonr\n",
    "from scipy.stats import spearmanr\n",
    "from numpy.random import randn\n",
    "from numpy.random import seed\n",
    "from matplotlib import pyplot\n",
    "# seed random number gen\n",
    "seed(1)"
   ]
  },
  {
   "cell_type": "code",
   "execution_count": 3,
   "id": "a9f37fdc",
   "metadata": {},
   "outputs": [],
   "source": [
    "# Prepare data\n",
    "\n",
    "dataSet1 = 20* randn(1000)+100\n",
    "dataSet2 = dataSet1+(10* randn(1000) +50)"
   ]
  },
  {
   "cell_type": "code",
   "execution_count": 5,
   "id": "329894af",
   "metadata": {},
   "outputs": [
    {
     "data": {
      "text/plain": [
       "array([151.83044295, 103.73778832, 155.67856867, 137.41140339,\n",
       "        99.47901715, 138.65102455, 129.16231234, 163.70079655,\n",
       "       166.24551042, 172.43097994, 173.1284531 , 124.09811811,\n",
       "       136.78576695, 174.30388377, 184.51997098, 142.51126665,\n",
       "       175.94019969,  98.86724651, 105.79324522, 123.46898653,\n",
       "       127.55204214, 131.62544577, 123.67649163, 142.08358372,\n",
       "       149.53374746, 182.24954376, 148.1061323 , 182.27281462,\n",
       "       121.77407969, 132.66945368, 160.86093146, 141.64955282,\n",
       "       180.20348311, 129.29454101, 192.51381492, 151.50396616,\n",
       "       192.85710132, 153.8192942 , 159.52178663, 152.01134317,\n",
       "       101.53641949, 171.14604894, 150.67555258, 161.5382827 ,\n",
       "       105.24027917, 118.23484647, 161.84992544, 185.58456836,\n",
       "       163.5970963 , 134.43553674, 128.17693478, 144.59030688,\n",
       "       101.6443417 , 125.20242817, 162.40442213, 180.27541218,\n",
       "       170.33494386, 183.92488941, 158.17469621, 160.81074123,\n",
       "       130.45262984, 160.96440539, 154.05670247, 156.25322363,\n",
       "       133.43222268, 142.82813808, 140.43968324, 122.882938  ,\n",
       "       150.55363842, 145.65206991, 124.25033128, 168.3901558 ,\n",
       "       181.51305307, 200.04380335, 178.89526689, 143.13265347,\n",
       "       179.44761535, 174.55657679,  97.68740399, 177.69238416,\n",
       "       147.27467705, 165.57398688, 165.61862935, 135.29545945,\n",
       "       182.15407361, 129.55028072, 144.55501894, 155.69947941,\n",
       "       154.14690051, 101.09632373, 180.36774896, 157.1188722 ,\n",
       "       161.11014381, 143.49493009, 142.77335795, 145.58044141,\n",
       "       150.37178463, 174.16726801, 175.66602948, 154.85354159,\n",
       "       152.15620613, 178.67697869, 128.61902887, 139.36375876,\n",
       "       148.25432786, 148.74088448, 122.1792112 , 126.82191969,\n",
       "       152.17577389, 162.17259012, 134.22442402, 174.81901475,\n",
       "       156.86960516, 153.90274843, 151.93269074, 164.2706877 ,\n",
       "       104.58896396, 171.2613843 , 122.26262769, 189.59932979,\n",
       "       133.16846959, 163.26095223,  91.58540741, 160.57270052,\n",
       "       161.30616045, 136.09836582, 145.95037803, 147.54127689,\n",
       "       146.90214768, 158.43851523, 138.46113887, 139.54360979,\n",
       "       203.8889066 , 147.84012929, 161.14943349, 139.4218579 ,\n",
       "       175.56770562, 150.315593  , 152.7152657 , 173.3389295 ,\n",
       "       120.69883949, 125.79340171, 165.8919472 , 153.10510081,\n",
       "       120.15535281, 154.8315377 , 140.1248134 , 149.58217101,\n",
       "       142.99581469, 150.39945207, 133.52951592, 128.32846886,\n",
       "       143.68821309, 184.67536045, 162.04140331, 165.23204904,\n",
       "       142.09432775, 136.77138275, 165.87572623, 151.05525254,\n",
       "       131.46685822, 144.48486466, 136.0790038 , 156.68697553,\n",
       "       166.01804644, 120.92639151, 141.84555191, 123.98940143,\n",
       "       112.18136289, 163.59107964, 150.23982067, 198.7105964 ,\n",
       "       128.3273456 , 183.22376436, 146.49745312, 148.10478817,\n",
       "       137.80330518, 135.03996358, 113.77120632, 159.58761015,\n",
       "       133.1748431 , 136.24486614, 152.17586893, 174.16034442,\n",
       "       148.27306989, 143.21545093, 160.90357093, 165.59183829,\n",
       "       148.13750418, 129.35169547, 126.98028183, 184.3605432 ,\n",
       "       152.11302852, 150.55812259, 170.43115776, 139.77659785,\n",
       "       128.34515506, 110.08226457, 150.24283672, 119.76135987,\n",
       "       138.1612157 , 163.29065362, 165.39716336, 140.05545768,\n",
       "       137.92086313, 165.35017468, 196.56294215, 137.44005925,\n",
       "       169.15016976, 180.68459804, 180.71372962, 145.68849891,\n",
       "       138.76171044, 131.81525461, 133.5428227 , 129.60655929,\n",
       "       175.15955694, 139.66829293, 175.44840494, 139.79403627,\n",
       "       124.54991049, 174.59446046, 161.5383037 , 147.69130495,\n",
       "       165.13301259, 154.66587096, 150.10029981, 177.98961814,\n",
       "       140.73775394, 213.13362657, 163.23209281, 167.75493278,\n",
       "       174.21551535, 137.98225182, 204.69729393, 174.7169153 ,\n",
       "       140.89923053, 145.28042265, 150.12290916, 142.55109095,\n",
       "       154.35023108, 134.19904319, 176.40426344, 137.68452644,\n",
       "       179.68002913, 163.16714827, 120.86196302, 185.82174394,\n",
       "       150.9995252 , 140.77806684, 142.53603259, 161.31426415,\n",
       "       189.67112252, 155.49807896, 117.78735709, 134.33170387,\n",
       "       169.20478513, 168.34382853, 158.87719759, 172.10894144,\n",
       "       155.17562043, 144.01807998, 184.31606489, 145.14744276,\n",
       "       157.26372853, 149.00019683, 179.18327653, 129.09560496,\n",
       "       120.3570362 , 155.54325301, 129.15115845, 145.75490339,\n",
       "       134.97547111, 151.58245373, 112.36284747, 130.4748999 ,\n",
       "       191.39512602, 165.80855328, 147.74136946, 185.19855863,\n",
       "       156.40690156, 147.37235536, 172.67926948, 113.80021496,\n",
       "       148.87956557, 168.98017579, 139.77997296, 135.78340788,\n",
       "       162.26729376, 165.09032441, 166.15160474, 150.54190253,\n",
       "       117.69306847, 143.656711  , 170.05855228, 144.58750297,\n",
       "       168.45057774, 166.49016512, 174.58842173, 102.95823922,\n",
       "       164.58790928, 175.24273845, 135.94614209, 111.3361527 ,\n",
       "       162.62857906, 139.60447766, 136.4721353 , 162.44781278,\n",
       "       115.79416772, 167.9431831 , 132.03179736, 156.07918655,\n",
       "       154.3103431 , 142.31589617, 132.57585737, 166.12875132,\n",
       "       178.63916281, 147.12483444, 145.28531764, 149.97418802,\n",
       "       174.63498323, 111.04575599, 160.20565496, 174.05430481,\n",
       "       175.45138353, 133.01124355, 169.66560777, 170.1437104 ,\n",
       "       138.16266916, 143.99979338, 142.09404474, 158.78120649,\n",
       "       179.73401541, 141.81636893, 166.06795464, 175.50141709,\n",
       "       172.41336215, 144.82255569, 141.61325362, 150.82551385,\n",
       "       140.33093555, 135.77973052, 138.84661392, 188.76281463,\n",
       "       120.11703241, 131.54336578, 129.33491501, 132.73260521,\n",
       "       149.96957044, 159.0767378 , 185.62991312, 154.70818785,\n",
       "        99.58368102, 161.11565017, 102.13763299, 159.10426362,\n",
       "       123.97203309, 144.17031442, 138.58314989, 152.73071632,\n",
       "       160.20997493, 150.60463099, 138.42223914, 176.80265962,\n",
       "       143.86828368, 171.80321455, 153.65436092, 160.51229052,\n",
       "       177.18843542, 185.23519495, 165.28534751, 143.52404142,\n",
       "       167.27702972, 113.51270771, 168.29170933, 123.07640593,\n",
       "       158.9460877 , 150.06813525, 159.76793975, 148.12127721,\n",
       "       163.82385637, 129.80301999, 104.22149133, 169.77982461,\n",
       "       124.15312721, 128.35773246, 134.15659854, 197.53611689,\n",
       "       140.85407598, 144.96109121, 117.59339642, 197.40653448,\n",
       "       142.03733344,  91.80275159, 199.39622227, 165.43951639,\n",
       "       189.58136579, 148.2967111 , 158.45584296, 152.59853023,\n",
       "       151.02916421, 185.86925313, 161.62388147, 155.10179659,\n",
       "       171.51319945, 149.98115388, 150.32832676, 194.0328298 ,\n",
       "       166.17772572, 136.66677065, 142.02573422, 124.10051623,\n",
       "       185.35930177, 173.74819988, 117.16706616, 137.47957335,\n",
       "       168.97438361, 202.79390871, 192.69906303, 184.62646255,\n",
       "       166.04468609, 146.30577534, 159.62409251, 133.86716841,\n",
       "       120.79131215, 169.28068415, 190.26505362, 152.62253506,\n",
       "       162.64338492, 144.68056031, 126.32252889, 174.33634703,\n",
       "       132.1062205 , 147.41712276, 133.01745302, 158.10025306,\n",
       "       112.2232729 , 152.14667123, 184.10787116, 178.11540272,\n",
       "       206.24920777, 153.53971706, 134.28492085, 165.5311996 ,\n",
       "       140.00472499, 178.39643789, 170.67536415, 147.89655437,\n",
       "       135.34691477, 156.98324098, 167.98528302, 158.76164232,\n",
       "       135.95975592, 155.34848767, 146.28668555, 184.34784775,\n",
       "       170.98615494, 102.87881368, 164.58896477, 142.32933486,\n",
       "       104.68078359, 148.79628952, 134.11034482,  76.43924778,\n",
       "       170.50557053, 167.67219761, 185.59973753, 144.18848385,\n",
       "       157.12665519,  94.38054141, 149.2784966 , 166.24823488,\n",
       "       149.43959023, 186.86850946, 189.76564418, 161.11528438,\n",
       "       174.7388489 , 157.1536914 , 180.63700612, 123.42392648,\n",
       "       156.29723144, 131.35119332, 157.36587228, 148.81714438,\n",
       "       139.32673547, 121.4263589 , 177.64586511, 175.99198237,\n",
       "       182.06714455,  94.05854162, 123.6368763 , 176.61105844,\n",
       "       140.77775389, 144.39863668, 168.84044232, 151.90382085,\n",
       "       138.94721459, 143.57693693, 194.83914192, 119.89420188,\n",
       "       186.86401654, 143.62120358, 138.62866312, 174.74435423,\n",
       "       129.44869186, 164.15806015, 154.75952449, 108.63992369,\n",
       "       157.08113   , 172.46088555, 137.96770564, 147.79752424,\n",
       "       159.26101756, 131.8742987 , 137.03491384, 148.2320267 ,\n",
       "       107.7108809 , 146.84541633, 107.77471824, 156.59740122,\n",
       "       144.91474922, 134.65561594, 172.10970594, 154.39969226,\n",
       "       159.55809867, 143.81824602, 156.01296858, 170.47596597,\n",
       "       134.84092742, 113.92063386, 158.78858652, 107.95995272,\n",
       "        76.7707277 , 125.2892762 , 139.53510922, 153.35273703,\n",
       "       164.65145993, 145.15219557, 192.37348162, 167.80713343,\n",
       "       182.24787655, 128.36956006, 155.7596995 , 142.79290584,\n",
       "       145.37833092, 117.4879816 , 164.3323546 , 170.9224457 ,\n",
       "       152.61191781, 127.62950148, 132.84166342, 151.34002644,\n",
       "       140.57381772, 154.059249  , 144.81688429, 154.42687228,\n",
       "       138.51631531, 159.87829384, 182.78008636, 159.6648092 ,\n",
       "       148.81218125, 190.35302397, 136.94057387, 142.57667678,\n",
       "       168.15469699, 154.30209138, 122.99371797, 172.7956216 ,\n",
       "       161.58583139, 112.41017232, 107.8703122 , 153.77959403,\n",
       "       162.33746727, 175.39173885, 103.65802166, 129.04483914,\n",
       "       179.30816801, 125.02148927, 158.01207637, 165.84845392,\n",
       "       148.29156886, 115.31351542, 141.23510505, 180.53504735,\n",
       "       147.93828098, 132.11805391, 174.38905673, 149.01044185,\n",
       "       166.64316221, 154.91986171, 125.23881718, 160.97508482,\n",
       "       124.23761303, 153.23727632, 132.48855077, 119.98987501,\n",
       "       103.6852627 , 124.94067175, 165.69847314, 141.85787311,\n",
       "       158.38061471, 164.34567356, 148.29327214, 149.52086492,\n",
       "       133.79345606, 155.16582321, 182.65939414, 159.24244714,\n",
       "       149.158974  , 134.94983843, 128.55093381, 154.65550968,\n",
       "       124.13160102, 156.59072035, 142.5828079 , 108.5609968 ,\n",
       "        96.55950251, 124.59414814, 139.06559016, 147.3712935 ,\n",
       "       150.25540542, 134.6168732 , 131.62768855, 133.93806618,\n",
       "       155.87849222, 203.39768736, 151.01831092, 137.12774305,\n",
       "       186.17608533, 133.61883714, 148.72764771, 146.31961492,\n",
       "       154.82928392, 237.8394639 , 142.47289037, 126.95367912,\n",
       "       149.57607168, 159.20043396, 139.94745935, 124.20294902,\n",
       "       166.71749114, 176.48402372, 129.77290107, 135.88730035,\n",
       "       185.55578551, 140.14502998, 153.33157096, 167.86176833,\n",
       "       137.85047073, 177.8585375 , 126.68313069, 124.07903465,\n",
       "       139.61574587, 172.15135513, 135.16173025, 180.02854456,\n",
       "       149.66802461, 168.95706228, 170.88841134, 158.0739796 ,\n",
       "       112.11559666, 150.916774  , 184.91802484, 162.56218773,\n",
       "       145.05150314, 116.61535558, 158.95277908, 174.04212188,\n",
       "       180.18506806, 152.43568245, 161.31782406, 120.72485995,\n",
       "       156.54008176, 114.65088434, 184.98064604, 144.01825311,\n",
       "       187.2784743 , 128.18837846, 125.79353291, 185.6948288 ,\n",
       "       124.41895662, 128.18350625, 177.34273136, 166.66047018,\n",
       "       122.4615879 , 131.05831609, 118.62717174, 151.95254714,\n",
       "       190.99531576, 142.18795163, 178.41652487, 129.7048646 ,\n",
       "       197.4261282 , 125.53253283, 145.56988798, 142.71152316,\n",
       "       127.39116623, 175.91960504, 139.88344734, 150.04552557,\n",
       "       119.68236802, 143.98660521, 159.19166554, 128.12224719,\n",
       "       168.62586183, 132.29552708, 186.09704739, 147.16735407,\n",
       "        98.92452441, 207.61844957, 152.14118706, 183.60319991,\n",
       "       143.83045633,  93.74422951, 133.35736666, 130.72711023,\n",
       "       148.77652519, 115.81626412, 159.5031274 , 111.53594511,\n",
       "       160.25311921, 134.37202167, 185.73945016, 106.6664565 ,\n",
       "       149.16084239, 172.41338863, 128.32829819, 153.28597313,\n",
       "       189.15860984, 149.58716644, 184.71790467, 169.85593423,\n",
       "       165.15152057, 134.21218267, 143.83232858, 179.89745118,\n",
       "       162.38174036, 149.81944345, 139.20875537, 115.92029981,\n",
       "       145.28521966, 180.89256884, 149.25463334, 155.21728036,\n",
       "       140.09467565, 125.40672605, 153.76398904, 178.58739495,\n",
       "       187.13265715, 167.27430209, 151.67013312, 126.23305402,\n",
       "       182.06784738, 145.97241417, 132.28197864, 125.70189557,\n",
       "       125.45877859, 162.5774936 , 133.89506411, 119.91180208,\n",
       "       175.77976723, 162.36985756, 150.94017169, 171.27517355,\n",
       "       124.85808935, 162.44538476, 119.14692545, 123.01856908,\n",
       "       124.95904933, 135.03726049, 145.99050675, 133.9685662 ,\n",
       "       155.72077447, 177.87265479, 140.77838727, 149.52396262,\n",
       "       174.4048941 , 134.06745059, 123.44016602, 174.03083144,\n",
       "       179.38931654, 148.62094763, 169.21479198, 140.02728369,\n",
       "       142.59977775, 185.7568514 , 155.23710105, 140.08724399,\n",
       "       176.33190572, 150.86936732, 159.56107772, 174.39796681,\n",
       "       149.00160934, 166.81557229, 152.28804165, 150.70143381,\n",
       "       197.81927417, 203.14490431, 168.24452512, 183.74517959,\n",
       "       123.49846513, 176.63293293, 157.2992984 , 105.62602596,\n",
       "       156.57234235, 166.14066871, 130.26321807, 177.17887569,\n",
       "       183.72983576, 118.59126892, 180.95700508, 151.95899956,\n",
       "       138.93547274, 132.68864006, 131.09894275, 131.14456184,\n",
       "       140.07166093, 164.44120254, 185.02898561, 184.3852151 ,\n",
       "       134.97446238, 176.59890837, 164.16304706, 175.00318086,\n",
       "       102.64499804, 113.79836745, 143.10045892, 149.26340002,\n",
       "       142.76001771, 130.69382273, 155.3125076 , 166.75002058,\n",
       "       117.16700674, 139.77780433, 157.96204064, 130.75562903,\n",
       "       167.10963189, 129.38386893, 154.1896586 , 170.5870896 ,\n",
       "       149.61672687, 158.73249336, 157.75247421, 154.95388983,\n",
       "       149.5093771 , 180.84363391, 156.33587713, 177.65420418,\n",
       "       168.27362108, 124.4384631 , 142.33233746, 147.23447718,\n",
       "       130.60929662, 140.33555783, 155.59305357, 127.34462437,\n",
       "       201.27575091, 195.85821136, 148.52363292, 170.2846038 ,\n",
       "       167.92996949, 137.95160858, 199.51353607, 170.85329853,\n",
       "       147.04906573, 113.32476721, 138.20851049, 154.21733819,\n",
       "       136.25044201, 146.53749871, 132.62875715, 150.0737411 ,\n",
       "       141.71678235, 114.02989624, 138.61785655, 158.42487423,\n",
       "       119.03945206, 195.54340554, 138.4313346 , 151.01084577,\n",
       "       165.1206763 , 165.2581954 , 160.69400906, 138.31013751,\n",
       "       123.38042166, 160.9808263 , 168.27708789, 150.25471901,\n",
       "       152.26045425, 122.43726369, 130.94131694, 144.78533515,\n",
       "       151.74661347, 157.4822173 , 108.95678475, 147.00847607,\n",
       "       132.52842173, 139.56878258, 176.29461196, 150.89902456,\n",
       "       166.57454879, 119.88567453, 135.2023991 , 135.37108635,\n",
       "       139.02990866, 163.75231257, 163.67893211, 135.82973059,\n",
       "       130.04610755, 118.23342605, 173.89628756, 125.13839862,\n",
       "       129.61339396, 146.74603771, 112.9636349 , 149.44574864,\n",
       "       167.64724328, 172.14345233, 136.99192967, 143.90834729,\n",
       "       123.95060778, 168.37092819, 168.47315874, 155.06679136,\n",
       "       162.64217691, 137.44018238, 184.58605194, 138.91385742,\n",
       "       150.36639905, 153.61684988, 187.45243342, 154.17183061,\n",
       "       175.24009805, 153.05166291, 120.92273684, 161.81848432,\n",
       "       130.83641933, 117.34155551, 160.50878448, 170.48251924,\n",
       "       178.43830412, 122.6736091 , 109.09373221, 167.70355562,\n",
       "       146.36348124, 153.19582821, 146.48299228, 173.27226529,\n",
       "       188.78174449, 139.25844331, 173.98096229, 122.45988984,\n",
       "       142.55635088, 165.76011467, 122.40004037, 126.93939876,\n",
       "       144.2749192 , 105.42454323, 138.8929492 , 152.75808075,\n",
       "       144.48272803, 122.88151834, 107.38966432, 134.35294662,\n",
       "       134.54626474, 131.07409146, 161.0832532 , 142.16068432,\n",
       "       138.85703727, 152.3214606 , 145.57816539, 140.8172228 ,\n",
       "       148.5129115 , 166.93852618, 187.76195216, 181.5397521 ,\n",
       "       138.20837697, 143.68891946, 134.82799963, 170.51041317,\n",
       "       134.78472955, 195.54957094, 167.66242338, 184.85803776,\n",
       "       138.66020115, 136.00314279, 135.09168107, 144.24281056,\n",
       "       131.51863561, 134.44840266, 148.23279978, 180.66023852,\n",
       "       142.19333966, 124.18984415, 123.02331404, 146.05275346,\n",
       "       154.99179538, 130.06022277, 148.94727345, 164.72585109])"
      ]
     },
     "execution_count": 5,
     "metadata": {},
     "output_type": "execute_result"
    }
   ],
   "source": [
    "dataSet2"
   ]
  },
  {
   "cell_type": "code",
   "execution_count": 8,
   "id": "58da7911",
   "metadata": {},
   "outputs": [
    {
     "name": "stdout",
     "output_type": "stream",
     "text": [
      "DataSet1: mean=100.547 stdv=20.601\n",
      "DataSet2: mean=150.325 stdv=22.493\n"
     ]
    }
   ],
   "source": [
    "# Print the mean and standard deviation\n",
    "\n",
    "print('DataSet1: mean=%.3f stdv=%.3f'% (mean(dataSet1), std(dataSet1)))\n",
    "print('DataSet2: mean=%.3f stdv=%.3f'% (mean(dataSet2), std(dataSet2)))"
   ]
  },
  {
   "cell_type": "code",
   "execution_count": 9,
   "id": "dfc50dd5",
   "metadata": {},
   "outputs": [
    {
     "data": {
      "image/png": "[encoded data removed]",
      "text/plain": [
       "<Figure size 432x288 with 1 Axes>"
      ]
     },
     "metadata": {
      "needs_background": "light"
     },
     "output_type": "display_data"
    }
   ],
   "source": [
    "#Plot the scatter diagram\n",
    "\n",
    "pyplot.scatter(dataSet1, dataSet2)\n",
    "pyplot.show()"
   ]
  },
  {
   "cell_type": "markdown",
   "id": "c944da23",
   "metadata": {},
   "source": [
    "## Covariance\n",
    "   - Variables can be related by a linear relationship. This is a relationship that is consistently additive across the two data samples.This relationship can be summarized between two variables, called the covariance\n",
    "   - cov(X, Y) = (sum (x - mean(X)) * (y - mean(Y)) ) * 1/(n-1)\n",
    "\n",
    " "
   ]
  },
  {
   "cell_type": "code",
   "execution_count": 10,
   "id": "9ff8ae60",
   "metadata": {},
   "outputs": [
    {
     "data": {
      "text/plain": [
       "array([[424.81565707, 418.3897273 ],\n",
       "       [418.3897273 , 506.46344785]])"
      ]
     },
     "execution_count": 10,
     "metadata": {},
     "output_type": "execute_result"
    }
   ],
   "source": [
    "covariance = cov(dataSet1, dataSet2)\n",
    "covariance"
   ]
  },
  {
   "cell_type": "markdown",
   "id": "b292bb5c",
   "metadata": {},
   "source": [
    "## Pearson’s Correlation\n",
    "   - The Pearson correlation coefficient (named for Karl Pearson) can be used to summarize the strength of the linear relationship between two data samples.\n",
    "\n",
    "- The Pearson’s correlation coefficient is calculated as the covariance of the two variables divided by the product of the standard deviation of each data sample. It is the normalization of the covariance between the two variables to give an interpretable score.\n",
    "\n",
    "- Pearson's correlation coefficient = covariance(X, Y) / (stdv(X) * stdv(Y))"
   ]
  },
  {
   "cell_type": "code",
   "execution_count": 11,
   "id": "4b8fdcde",
   "metadata": {},
   "outputs": [
    {
     "name": "stdout",
     "output_type": "stream",
     "text": [
      "Pearsons correlation: 0.902\n"
     ]
    }
   ],
   "source": [
    "corr, _ = pearsonr(dataSet1, dataSet2)\n",
    "print('Pearsons correlation: %.3f' % corr)"
   ]
  },
  {
   "cell_type": "markdown",
   "id": "72ea8b7b",
   "metadata": {},
   "source": [
    "## Spearman’s Correlation\n",
    "   - Instead of calculating the coefficient using covariance and standard deviations on the samples themselves, these statistics are calculated from the relative rank of values on each sample \n",
    "   - Spearman's correlation coefficient = covariance(rank(X), rank(Y)) / (stdv(rank(X)) * stdv(rank(Y)))"
   ]
  },
  {
   "cell_type": "code",
   "execution_count": 12,
   "id": "c8aa6615",
   "metadata": {},
   "outputs": [
    {
     "name": "stdout",
     "output_type": "stream",
     "text": [
      "Spearmans correlation: 0.893\n"
     ]
    }
   ],
   "source": [
    "corr, _ = spearmanr(dataSet1, dataSet2)\n",
    "print('Spearmans correlation: %.3f' % corr)"
   ]
  },
  {
   "cell_type": "code",
   "execution_count": null,
   "id": "89bef240",
   "metadata": {},
   "outputs": [],
   "source": []
  },
  {
   "cell_type": "code",
   "execution_count": null,
   "id": "4dbab216",
   "metadata": {},
   "outputs": [],
   "source": []
  }
 ],
 "metadata": {
  "kernelspec": {
   "display_name": "Python 3",
   "language": "python",
   "name": "python3"
  },
  "language_info": {
   "codemirror_mode": {
    "name": "ipython",
    "version": 3
   },
   "file_extension": ".py",
   "mimetype": "text/x-python",
   "name": "python",
   "nbconvert_exporter": "python",
   "pygments_lexer": "ipython3",
   "version": "3.8.8"
  }
 },
 "nbformat": 4,
 "nbformat_minor": 5
}
