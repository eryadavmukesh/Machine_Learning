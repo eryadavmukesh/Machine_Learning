{
 "cells": [
  {
   "cell_type": "markdown",
   "metadata": {},
   "source": [
    "# Dictionary"
   ]
  },
  {
   "cell_type": "code",
   "execution_count": null,
   "metadata": {},
   "outputs": [],
   "source": [
    "# python dictionaries are built-in data structures that is mutable\n",
    "#representation : {key1 : value1, key2 : value12, ...}"
   ]
  },
  {
   "cell_type": "code",
   "execution_count": 1,
   "metadata": {},
   "outputs": [],
   "source": [
    "# Create a dictionary in python only single entity\n",
    "\n",
    "# keys ---> columns\n",
    "# values---> rows\n",
    "\n",
    "persons = {\n",
    "    'FName':'Mukesh',\n",
    "    'LName':'Yadav',\n",
    "    'Occupation':'Engineer',\n",
    "    'Location':'Jaipur',\n",
    "    'PinCode':303106,\n",
    "    'Hobby':'Reading'\n",
    "}"
   ]
  },
  {
   "cell_type": "code",
   "execution_count": 2,
   "metadata": {},
   "outputs": [
    {
     "data": {
      "text/plain": [
       "{'FName': 'Mukesh',\n",
       " 'LName': 'Yadav',\n",
       " 'Occupation': 'Engineer',\n",
       " 'Location': 'Jaipur',\n",
       " 'PinCode': 303106,\n",
       " 'Hobby': 'Reading'}"
      ]
     },
     "execution_count": 2,
     "metadata": {},
     "output_type": "execute_result"
    }
   ],
   "source": [
    "persons"
   ]
  },
  {
   "cell_type": "code",
   "execution_count": 3,
   "metadata": {},
   "outputs": [],
   "source": [
    "# Create a dictionary in python using multiple entity using python lists\n",
    "\n",
    "persons1 = {\n",
    "    'FName':['Mukesh','Admin','Raja'],\n",
    "    'LName':['Yadav', 'admin','Sastri'],\n",
    "    'Occupation':['Engineer','Product Ownor','Architect'],\n",
    "    'Location':['Jaipur', 'Delhi', 'Pink city'],\n",
    "    'PinCode':['303106', '302020', '302016'],\n",
    "    'Hobby':['Reading', 'Study','playing']\n",
    "             }"
   ]
  },
  {
   "cell_type": "code",
   "execution_count": 4,
   "metadata": {},
   "outputs": [
    {
     "data": {
      "text/plain": [
       "{'FName': ['Mukesh', 'Admin', 'Raja'],\n",
       " 'LName': ['Yadav', 'admin', 'Sastri'],\n",
       " 'Occupation': ['Engineer', 'Product Ownor', 'Architect'],\n",
       " 'Location': ['Jaipur', 'Delhi', 'Pink city'],\n",
       " 'PinCode': ['303106', '302020', '302016'],\n",
       " 'Hobby': ['Reading', 'Study', 'playing']}"
      ]
     },
     "execution_count": 4,
     "metadata": {},
     "output_type": "execute_result"
    }
   ],
   "source": [
    "persons1"
   ]
  },
  {
   "cell_type": "code",
   "execution_count": 5,
   "metadata": {},
   "outputs": [
    {
     "data": {
      "text/plain": [
       "['Mukesh', 'Admin', 'Raja']"
      ]
     },
     "execution_count": 5,
     "metadata": {},
     "output_type": "execute_result"
    }
   ],
   "source": [
    "# Access all the values\n",
    "\n",
    "persons1['FName']"
   ]
  },
  {
   "cell_type": "code",
   "execution_count": 6,
   "metadata": {},
   "outputs": [
    {
     "data": {
      "text/plain": [
       "['Reading', 'Study', 'playing']"
      ]
     },
     "execution_count": 6,
     "metadata": {},
     "output_type": "execute_result"
    }
   ],
   "source": [
    "persons1['Hobby']"
   ]
  },
  {
   "cell_type": "code",
   "execution_count": 7,
   "metadata": {},
   "outputs": [
    {
     "data": {
      "text/plain": [
       "'Admin'"
      ]
     },
     "execution_count": 7,
     "metadata": {},
     "output_type": "execute_result"
    }
   ],
   "source": [
    "# Access all the values based on the index\n",
    "\n",
    "persons1['FName'][1]"
   ]
  },
  {
   "cell_type": "markdown",
   "metadata": {},
   "source": [
    "## Unique Keys in dictionary"
   ]
  },
  {
   "cell_type": "code",
   "execution_count": 8,
   "metadata": {},
   "outputs": [],
   "source": [
    "# Keys should be unique in dictionary\n",
    "\n",
    "dict_key_unique = {\n",
    "    'key1':'value1',\n",
    "    'key2':'value2',\n",
    "    'key3':'value3'\n",
    "}"
   ]
  },
  {
   "cell_type": "code",
   "execution_count": 9,
   "metadata": {},
   "outputs": [
    {
     "data": {
      "text/plain": [
       "{'key1': 'value1', 'key2': 'value2', 'key3': 'value3'}"
      ]
     },
     "execution_count": 9,
     "metadata": {},
     "output_type": "execute_result"
    }
   ],
   "source": [
    "dict_key_unique"
   ]
  },
  {
   "cell_type": "code",
   "execution_count": 10,
   "metadata": {},
   "outputs": [],
   "source": [
    "# So far everythings looks good now let's try to dupliate the key\n",
    "\n",
    "dict_key_non_unique = {\n",
    "    'key1':'value1',\n",
    "    'key2':'value2',\n",
    "    'key1':'value3'\n",
    "}"
   ]
  },
  {
   "cell_type": "code",
   "execution_count": 11,
   "metadata": {},
   "outputs": [
    {
     "data": {
      "text/plain": [
       "{'key1': 'value3', 'key2': 'value2'}"
      ]
     },
     "execution_count": 11,
     "metadata": {},
     "output_type": "execute_result"
    }
   ],
   "source": [
    "dict_key_non_unique"
   ]
  },
  {
   "cell_type": "markdown",
   "metadata": {},
   "source": [
    "## Immutable Keys"
   ]
  },
  {
   "cell_type": "code",
   "execution_count": 12,
   "metadata": {},
   "outputs": [
    {
     "ename": "TypeError",
     "evalue": "unhashable type: 'list'",
     "output_type": "error",
     "traceback": [
      "\u001b[0;31m---------------------------------------------------------------------------\u001b[0m",
      "\u001b[0;31mTypeError\u001b[0m                                 Traceback (most recent call last)",
      "\u001b[0;32m<ipython-input-12-a7f278fbfb4a>\u001b[0m in \u001b[0;36m<module>\u001b[0;34m\u001b[0m\n\u001b[1;32m      7\u001b[0m     \u001b[0;34m'd'\u001b[0m\u001b[0;34m:\u001b[0m\u001b[0;34m'Delhi'\u001b[0m\u001b[0;34m,\u001b[0m\u001b[0;34m\u001b[0m\u001b[0;34m\u001b[0m\u001b[0m\n\u001b[1;32m      8\u001b[0m     \u001b[0;34m'u'\u001b[0m\u001b[0;34m:\u001b[0m\u001b[0;34m'Udaipur'\u001b[0m\u001b[0;34m,\u001b[0m\u001b[0;34m\u001b[0m\u001b[0;34m\u001b[0m\u001b[0m\n\u001b[0;32m----> 9\u001b[0;31m     \u001b[0;34m'd'\u001b[0m\u001b[0;34m:\u001b[0m\u001b[0;34m'Delhi NCR'\u001b[0m\u001b[0;34m\u001b[0m\u001b[0;34m\u001b[0m\u001b[0m\n\u001b[0m\u001b[1;32m     10\u001b[0m }\n",
      "\u001b[0;31mTypeError\u001b[0m: unhashable type: 'list'"
     ]
    }
   ],
   "source": [
    "\n",
    "# Now let's see what happens if we try to have key as mutable data type\n",
    "\n",
    "\n",
    "dict_key_mutable = {\n",
    "    ['a','b','c']:'Jaipur', \n",
    "    'd':'Delhi',\n",
    "    'u':'Udaipur',\n",
    "    'd':'Delhi NCR'\n",
    "}"
   ]
  },
  {
   "cell_type": "code",
   "execution_count": 13,
   "metadata": {},
   "outputs": [],
   "source": [
    "# Since tuples are immutable so we can use that to avoid such error's\n",
    "\n",
    "dict_key_mutable = {\n",
    "    ('a','b','c'):'Jaipur', \n",
    "    'd':'Delhi',\n",
    "    'u':'Udaipur',\n",
    "    'd':'Delhi NCR'\n",
    "}"
   ]
  },
  {
   "cell_type": "code",
   "execution_count": 14,
   "metadata": {},
   "outputs": [
    {
     "data": {
      "text/plain": [
       "{('a', 'b', 'c'): 'Jaipur', 'd': 'Delhi NCR', 'u': 'Udaipur'}"
      ]
     },
     "execution_count": 14,
     "metadata": {},
     "output_type": "execute_result"
    }
   ],
   "source": [
    "dict_key_mutable"
   ]
  },
  {
   "cell_type": "markdown",
   "metadata": {},
   "source": [
    "##  Access dictionary keys, values"
   ]
  },
  {
   "cell_type": "code",
   "execution_count": 15,
   "metadata": {},
   "outputs": [
    {
     "data": {
      "text/plain": [
       "dict_items([('FName', ['Mukesh', 'Admin', 'Raja']), ('LName', ['Yadav', 'admin', 'Sastri']), ('Occupation', ['Engineer', 'Product Ownor', 'Architect']), ('Location', ['Jaipur', 'Delhi', 'Pink city']), ('PinCode', ['303106', '302020', '302016']), ('Hobby', ['Reading', 'Study', 'playing'])])"
      ]
     },
     "execution_count": 15,
     "metadata": {},
     "output_type": "execute_result"
    }
   ],
   "source": [
    "persons1.items()"
   ]
  },
  {
   "cell_type": "code",
   "execution_count": 16,
   "metadata": {},
   "outputs": [
    {
     "data": {
      "text/plain": [
       "dict_keys(['FName', 'LName', 'Occupation', 'Location', 'PinCode', 'Hobby'])"
      ]
     },
     "execution_count": 16,
     "metadata": {},
     "output_type": "execute_result"
    }
   ],
   "source": [
    "persons1.keys()"
   ]
  },
  {
   "cell_type": "code",
   "execution_count": 17,
   "metadata": {},
   "outputs": [
    {
     "data": {
      "text/plain": [
       "dict_values([['Mukesh', 'Admin', 'Raja'], ['Yadav', 'admin', 'Sastri'], ['Engineer', 'Product Ownor', 'Architect'], ['Jaipur', 'Delhi', 'Pink city'], ['303106', '302020', '302016'], ['Reading', 'Study', 'playing']])"
      ]
     },
     "execution_count": 17,
     "metadata": {},
     "output_type": "execute_result"
    }
   ],
   "source": [
    "persons1.values()"
   ]
  },
  {
   "cell_type": "code",
   "execution_count": 18,
   "metadata": {},
   "outputs": [
    {
     "name": "stdout",
     "output_type": "stream",
     "text": [
      "['Mukesh', 'Admin', 'Raja'],['Yadav', 'admin', 'Sastri'],['Engineer', 'Product Ownor', 'Architect'],['Jaipur', 'Delhi', 'Pink city'],['303106', '302020', '302016'],['Reading', 'Study', 'playing'],"
     ]
    }
   ],
   "source": [
    "for key,value in persons1.items():\n",
    "    print(value, end=',')"
   ]
  },
  {
   "cell_type": "code",
   "execution_count": 19,
   "metadata": {},
   "outputs": [
    {
     "name": "stdout",
     "output_type": "stream",
     "text": [
      "FName,LName,Occupation,Location,PinCode,Hobby,"
     ]
    }
   ],
   "source": [
    "for key,value in persons1.items():\n",
    "    print(key, end=',')"
   ]
  },
  {
   "cell_type": "markdown",
   "metadata": {},
   "source": [
    "## Nested Dictionary\n",
    "   - pass a dictionary inside a dictionary"
   ]
  },
  {
   "cell_type": "code",
   "execution_count": 20,
   "metadata": {},
   "outputs": [],
   "source": [
    "dict_nested = {\n",
    "    'MyIndia':{\n",
    "        'India':'Delhi',\n",
    "        'Jaipur':'Pink City',\n",
    "        'Udaipur':'city of lakes'\n",
    "    }\n",
    "}"
   ]
  },
  {
   "cell_type": "code",
   "execution_count": 21,
   "metadata": {},
   "outputs": [
    {
     "data": {
      "text/plain": [
       "{'India': 'Delhi', 'Jaipur': 'Pink City', 'Udaipur': 'city of lakes'}"
      ]
     },
     "execution_count": 21,
     "metadata": {},
     "output_type": "execute_result"
    }
   ],
   "source": [
    "dict_nested['MyIndia']"
   ]
  },
  {
   "cell_type": "code",
   "execution_count": 22,
   "metadata": {},
   "outputs": [
    {
     "data": {
      "text/plain": [
       "'Pink City'"
      ]
     },
     "execution_count": 22,
     "metadata": {},
     "output_type": "execute_result"
    }
   ],
   "source": [
    "dict_nested['MyIndia']['Jaipur']"
   ]
  },
  {
   "cell_type": "code",
   "execution_count": null,
   "metadata": {},
   "outputs": [],
   "source": []
  },
  {
   "cell_type": "markdown",
   "metadata": {},
   "source": [
    "## Dictionary Comprehension"
   ]
  },
  {
   "cell_type": "code",
   "execution_count": 23,
   "metadata": {},
   "outputs": [
    {
     "name": "stdout",
     "output_type": "stream",
     "text": [
      "{1: 1, 2: 4, 3: 9, 4: 16, 5: 25, 6: 36, 7: 49, 8: 64, 9: 81, 10: 100}\n"
     ]
    }
   ],
   "source": [
    "check_squares = dict()\n",
    "for num in range(1,11):\n",
    "    check_squares[num] = num*num\n",
    "    \n",
    "print(check_squares)"
   ]
  },
  {
   "cell_type": "code",
   "execution_count": null,
   "metadata": {},
   "outputs": [],
   "source": []
  },
  {
   "cell_type": "code",
   "execution_count": 24,
   "metadata": {},
   "outputs": [
    {
     "name": "stdout",
     "output_type": "stream",
     "text": [
      "{1: 1, 2: 4, 3: 9, 4: 16, 5: 25, 6: 36, 7: 49, 8: 64, 9: 81, 10: 100}\n"
     ]
    }
   ],
   "source": [
    "# dictionary comprehension example\n",
    "check_squares = {num: num*num for num in range(1, 11)}\n",
    "print(check_squares)"
   ]
  },
  {
   "cell_type": "markdown",
   "metadata": {},
   "source": [
    "## Check the word frequency\n",
    "   - let's create word of frequency with the help of dictionary"
   ]
  },
  {
   "cell_type": "code",
   "execution_count": 27,
   "metadata": {},
   "outputs": [],
   "source": [
    "corpus = 'Dictionaries are Python’s are are are implementation of a data structure that is more generally known as an associative array. A dictionary consists of a collection of key-value pairs. Each key-value pair maps the key to its associated value'"
   ]
  },
  {
   "cell_type": "code",
   "execution_count": 28,
   "metadata": {},
   "outputs": [],
   "source": [
    "word_frequency = dict()\n",
    "check_corpus_words = str(corpus).split()\n"
   ]
  },
  {
   "cell_type": "code",
   "execution_count": 29,
   "metadata": {},
   "outputs": [],
   "source": [
    "for word in range(len(check_corpus_words)):\n",
    "    if check_corpus_words[word] not in word_frequency:\n",
    "        word_frequency[check_corpus_words[word]]=1\n",
    "    else:\n",
    "        word_frequency[check_corpus_words[word]] +=1"
   ]
  },
  {
   "cell_type": "code",
   "execution_count": 30,
   "metadata": {},
   "outputs": [
    {
     "data": {
      "text/plain": [
       "{'Dictionaries': 1,\n",
       " 'are': 4,\n",
       " 'Python’s': 1,\n",
       " 'implementation': 1,\n",
       " 'of': 3,\n",
       " 'a': 2,\n",
       " 'data': 1,\n",
       " 'structure': 1,\n",
       " 'that': 1,\n",
       " 'is': 1,\n",
       " 'more': 1,\n",
       " 'generally': 1,\n",
       " 'known': 1,\n",
       " 'as': 1,\n",
       " 'an': 1,\n",
       " 'associative': 1,\n",
       " 'array.': 1,\n",
       " 'A': 1,\n",
       " 'dictionary': 1,\n",
       " 'consists': 1,\n",
       " 'collection': 1,\n",
       " 'key-value': 2,\n",
       " 'pairs.': 1,\n",
       " 'Each': 1,\n",
       " 'pair': 1,\n",
       " 'maps': 1,\n",
       " 'the': 1,\n",
       " 'key': 1,\n",
       " 'to': 1,\n",
       " 'its': 1,\n",
       " 'associated': 1,\n",
       " 'value': 1}"
      ]
     },
     "execution_count": 30,
     "metadata": {},
     "output_type": "execute_result"
    }
   ],
   "source": [
    "word_frequency"
   ]
  },
  {
   "cell_type": "code",
   "execution_count": null,
   "metadata": {},
   "outputs": [],
   "source": []
  }
 ],
 "metadata": {
  "kernelspec": {
   "display_name": "Python 3",
   "language": "python",
   "name": "python3"
  },
  "language_info": {
   "codemirror_mode": {
    "name": "ipython",
    "version": 3
   },
   "file_extension": ".py",
   "mimetype": "text/x-python",
   "name": "python",
   "nbconvert_exporter": "python",
   "pygments_lexer": "ipython3",
   "version": "3.6.8"
  }
 },
 "nbformat": 4,
 "nbformat_minor": 2
}
